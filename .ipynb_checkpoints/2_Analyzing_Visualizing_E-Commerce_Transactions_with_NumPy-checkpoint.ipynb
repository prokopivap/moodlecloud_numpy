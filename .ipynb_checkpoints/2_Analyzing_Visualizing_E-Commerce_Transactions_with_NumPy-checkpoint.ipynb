{
 "cells": [
  {
   "cell_type": "code",
   "execution_count": 2,
   "id": "fb0e5fdd",
   "metadata": {},
   "outputs": [],
   "source": [
    "import numpy as np"
   ]
  },
  {
   "cell_type": "code",
   "execution_count": 3,
   "id": "06fd426f",
   "metadata": {},
   "outputs": [],
   "source": [
    "transaction_id = np.arange(1, 31)\n",
    "user_id = np.random.randint(100, 200, size=(30, 1))\n",
    "#product_id = np.random.randint(20000, 30000, size=(30, 1))\n",
    "product_id = np.random.randint(20000, 20010, size=(30, 1))\n",
    "quantity = np.random.randint(1, 10, size=(30, 1))\n",
    "price = np.random.uniform(1,20, (30,1)).round(2)\n",
    "\n",
    "#start_date = np.datetime64('2024-06-01')\n",
    "#end_date = np.datetime64('2024-12-10')\n",
    "#timestamp = np.arange(start_date, end_date, 3, dtype='datetime64[D]')\n",
    "\n",
    "start_date = 20240801\n",
    "end_date = 20240810\n",
    "timestamp = np.random.randint(start_date, end_date, size=(30, 1))\n",
    "\n",
    "\n",
    "#print(user_id)"
   ]
  },
  {
   "cell_type": "code",
   "execution_count": 4,
   "id": "fab29423",
   "metadata": {},
   "outputs": [],
   "source": [
    "multidim = np.column_stack((transaction_id, user_id, product_id, quantity, timestamp, price))\n",
    "ecom = multidim.astype(object)"
   ]
  },
  {
   "cell_type": "code",
   "execution_count": 5,
   "id": "257eca44",
   "metadata": {},
   "outputs": [
    {
     "name": "stdout",
     "output_type": "stream",
     "text": [
      "[[1.0 185.0 20000.0 7.0 20240804.0 17.69]\n",
      " [2.0 194.0 20001.0 4.0 20240801.0 4.79]\n",
      " [3.0 127.0 20002.0 5.0 20240808.0 19.77]\n",
      " [4.0 101.0 20000.0 3.0 20240808.0 1.62]\n",
      " [5.0 132.0 20003.0 8.0 20240807.0 18.24]\n",
      " [6.0 169.0 20008.0 8.0 20240803.0 6.77]\n",
      " [7.0 197.0 20005.0 4.0 20240808.0 17.93]\n",
      " [8.0 137.0 20004.0 4.0 20240808.0 5.32]\n",
      " [9.0 133.0 20003.0 1.0 20240809.0 12.79]\n",
      " [10.0 119.0 20002.0 1.0 20240806.0 18.75]\n",
      " [11.0 172.0 20009.0 6.0 20240801.0 19.41]\n",
      " [12.0 128.0 20001.0 4.0 20240808.0 8.4]\n",
      " [13.0 144.0 20004.0 5.0 20240807.0 12.7]\n",
      " [14.0 115.0 20003.0 7.0 20240808.0 4.48]\n",
      " [15.0 142.0 20002.0 7.0 20240804.0 9.87]\n",
      " [16.0 126.0 20008.0 8.0 20240801.0 14.47]\n",
      " [17.0 151.0 20003.0 4.0 20240807.0 14.22]\n",
      " [18.0 139.0 20003.0 1.0 20240801.0 6.22]\n",
      " [19.0 113.0 20009.0 9.0 20240803.0 9.35]\n",
      " [20.0 116.0 20001.0 5.0 20240803.0 12.13]\n",
      " [21.0 120.0 20000.0 1.0 20240805.0 8.33]\n",
      " [22.0 111.0 20000.0 8.0 20240807.0 18.52]\n",
      " [23.0 156.0 20004.0 5.0 20240807.0 14.88]\n",
      " [24.0 182.0 20008.0 3.0 20240807.0 19.77]\n",
      " [25.0 163.0 20008.0 5.0 20240805.0 6.55]\n",
      " [26.0 114.0 20002.0 4.0 20240801.0 6.89]\n",
      " [27.0 196.0 20000.0 3.0 20240804.0 15.76]\n",
      " [28.0 138.0 20007.0 7.0 20240802.0 4.9]\n",
      " [29.0 108.0 20009.0 1.0 20240804.0 13.05]\n",
      " [30.0 119.0 20006.0 5.0 20240808.0 5.65]]\n"
     ]
    }
   ],
   "source": [
    "print(ecom)"
   ]
  },
  {
   "cell_type": "code",
   "execution_count": 6,
   "id": "936e6a78",
   "metadata": {},
   "outputs": [
    {
     "name": "stdout",
     "output_type": "stream",
     "text": [
      "[[1 185 20000 7 20240804 17.69]\n",
      " [2 194 20001 4 20240801 4.79]\n",
      " [3 127 20002 5 20240808 19.77]\n",
      " [4 101 20000 3 20240808 1.62]\n",
      " [5 132 20003 8 20240807 18.24]\n",
      " [6 169 20008 8 20240803 6.77]\n",
      " [7 197 20005 4 20240808 17.93]\n",
      " [8 137 20004 4 20240808 5.32]\n",
      " [9 133 20003 1 20240809 12.79]\n",
      " [10 119 20002 1 20240806 18.75]\n",
      " [11 172 20009 6 20240801 19.41]\n",
      " [12 128 20001 4 20240808 8.4]\n",
      " [13 144 20004 5 20240807 12.7]\n",
      " [14 115 20003 7 20240808 4.48]\n",
      " [15 142 20002 7 20240804 9.87]\n",
      " [16 126 20008 8 20240801 14.47]\n",
      " [17 151 20003 4 20240807 14.22]\n",
      " [18 139 20003 1 20240801 6.22]\n",
      " [19 113 20009 9 20240803 9.35]\n",
      " [20 116 20001 5 20240803 12.13]\n",
      " [21 120 20000 1 20240805 8.33]\n",
      " [22 111 20000 8 20240807 18.52]\n",
      " [23 156 20004 5 20240807 14.88]\n",
      " [24 182 20008 3 20240807 19.77]\n",
      " [25 163 20008 5 20240805 6.55]\n",
      " [26 114 20002 4 20240801 6.89]\n",
      " [27 196 20000 3 20240804 15.76]\n",
      " [28 138 20007 7 20240802 4.9]\n",
      " [29 108 20009 1 20240804 13.05]\n",
      " [30 119 20006 5 20240808 5.65]]\n"
     ]
    }
   ],
   "source": [
    "ecom[0:30,0:5] = ecom[0:30,0:5].astype(int)\n",
    "print(ecom)\n",
    "#a[:,0] = a[:,0].astype(int)"
   ]
  },
  {
   "cell_type": "code",
   "execution_count": 521,
   "id": "ae095406",
   "metadata": {},
   "outputs": [],
   "source": [
    "# w = np.zeros([30,6]).astype(int)\n",
    "# w[0:30, 0] = transaction_id\n",
    "\n",
    "# w[0:30, 4] = price\n",
    "# print(w)"
   ]
  },
  {
   "cell_type": "code",
   "execution_count": 7,
   "id": "1e583f3a",
   "metadata": {},
   "outputs": [],
   "source": [
    "def revenue(arr):\n",
    "    rev = 0\n",
    "    for val in arr:\n",
    "        sum = 0\n",
    "        sum = val[3] * val[5]\n",
    "        #print (sum)\n",
    "        rev = rev + sum\n",
    "    return(round(rev, 2))"
   ]
  },
  {
   "cell_type": "code",
   "execution_count": 8,
   "id": "efff1436",
   "metadata": {},
   "outputs": [
    {
     "data": {
      "text/plain": [
       "1682.38"
      ]
     },
     "execution_count": 8,
     "metadata": {},
     "output_type": "execute_result"
    }
   ],
   "source": [
    "revenue(ecom)"
   ]
  },
  {
   "cell_type": "code",
   "execution_count": 9,
   "id": "f6616cc8",
   "metadata": {},
   "outputs": [],
   "source": [
    "def unq_users(arr):\n",
    "    users = []\n",
    "    for user in arr:\n",
    "        if user[1] not in users:\n",
    "            users.append(user[1])\n",
    "    unq_users = len(users)\n",
    "    return(unq_users)"
   ]
  },
  {
   "cell_type": "code",
   "execution_count": 10,
   "id": "16ff67d6",
   "metadata": {},
   "outputs": [
    {
     "data": {
      "text/plain": [
       "29"
      ]
     },
     "execution_count": 10,
     "metadata": {},
     "output_type": "execute_result"
    }
   ],
   "source": [
    "unq_users(ecom)"
   ]
  },
  {
   "cell_type": "code",
   "execution_count": 11,
   "id": "e5bba419",
   "metadata": {},
   "outputs": [],
   "source": [
    "def most_purchased(arr):\n",
    "    mp_d = {}\n",
    "  \n",
    "    for items in arr:\n",
    "        #print (str(items[2]) + ' -> ' + str(items[3]))\n",
    "\n",
    "        if items[2] in mp_d:\n",
    "            mp_d[items[2]] = mp_d.get(items[2], 0) + items[3]\n",
    "        else:\n",
    "            mp_d[items[2]] = items[3]\n",
    "\n",
    "    print (mp_d)\n",
    "    \n",
    "    most_purchased_product_id = ''\n",
    "    qty = 0\n",
    "    for key, value in mp_d.items():\n",
    "        if value > qty:\n",
    "            qty += value\n",
    "            most_purchased_product_id = key \n",
    "            \n",
    "    print (most_purchased_product_id)"
   ]
  },
  {
   "cell_type": "code",
   "execution_count": 12,
   "id": "52fa32af",
   "metadata": {},
   "outputs": [
    {
     "name": "stdout",
     "output_type": "stream",
     "text": [
      "{20000: 22, 20001: 13, 20002: 17, 20003: 21, 20008: 24, 20005: 4, 20004: 14, 20009: 16, 20007: 7, 20006: 5}\n",
      "20008\n"
     ]
    }
   ],
   "source": [
    "most_purchased(ecom)"
   ]
  },
  {
   "cell_type": "code",
   "execution_count": 13,
   "id": "79705cd2",
   "metadata": {},
   "outputs": [],
   "source": [
    "def cust_price_type(arr):\n",
    "    ecom[0:30,5] = ecom[0:30,5].astype(int)\n",
    "    return(ecom)"
   ]
  },
  {
   "cell_type": "code",
   "execution_count": 14,
   "id": "32ed9a90",
   "metadata": {},
   "outputs": [
    {
     "data": {
      "text/plain": [
       "array([[1, 185, 20000, 7, 20240804, 17],\n",
       "       [2, 194, 20001, 4, 20240801, 4],\n",
       "       [3, 127, 20002, 5, 20240808, 19],\n",
       "       [4, 101, 20000, 3, 20240808, 1],\n",
       "       [5, 132, 20003, 8, 20240807, 18],\n",
       "       [6, 169, 20008, 8, 20240803, 6],\n",
       "       [7, 197, 20005, 4, 20240808, 17],\n",
       "       [8, 137, 20004, 4, 20240808, 5],\n",
       "       [9, 133, 20003, 1, 20240809, 12],\n",
       "       [10, 119, 20002, 1, 20240806, 18],\n",
       "       [11, 172, 20009, 6, 20240801, 19],\n",
       "       [12, 128, 20001, 4, 20240808, 8],\n",
       "       [13, 144, 20004, 5, 20240807, 12],\n",
       "       [14, 115, 20003, 7, 20240808, 4],\n",
       "       [15, 142, 20002, 7, 20240804, 9],\n",
       "       [16, 126, 20008, 8, 20240801, 14],\n",
       "       [17, 151, 20003, 4, 20240807, 14],\n",
       "       [18, 139, 20003, 1, 20240801, 6],\n",
       "       [19, 113, 20009, 9, 20240803, 9],\n",
       "       [20, 116, 20001, 5, 20240803, 12],\n",
       "       [21, 120, 20000, 1, 20240805, 8],\n",
       "       [22, 111, 20000, 8, 20240807, 18],\n",
       "       [23, 156, 20004, 5, 20240807, 14],\n",
       "       [24, 182, 20008, 3, 20240807, 19],\n",
       "       [25, 163, 20008, 5, 20240805, 6],\n",
       "       [26, 114, 20002, 4, 20240801, 6],\n",
       "       [27, 196, 20000, 3, 20240804, 15],\n",
       "       [28, 138, 20007, 7, 20240802, 4],\n",
       "       [29, 108, 20009, 1, 20240804, 13],\n",
       "       [30, 119, 20006, 5, 20240808, 5]], dtype=object)"
      ]
     },
     "execution_count": 14,
     "metadata": {},
     "output_type": "execute_result"
    }
   ],
   "source": [
    "cust_price_type(ecom)"
   ]
  },
  {
   "cell_type": "code",
   "execution_count": 15,
   "id": "85cfadde",
   "metadata": {},
   "outputs": [],
   "source": [
    "def column_type(arr, column):\n",
    "    return arr[:, column].dtype"
   ]
  },
  {
   "cell_type": "code",
   "execution_count": 16,
   "id": "ddc6e027",
   "metadata": {},
   "outputs": [
    {
     "data": {
      "text/plain": [
       "dtype('O')"
      ]
     },
     "execution_count": 16,
     "metadata": {},
     "output_type": "execute_result"
    }
   ],
   "source": [
    "column_type(ecom, 5)"
   ]
  },
  {
   "cell_type": "code",
   "execution_count": 17,
   "id": "d52dc9ea",
   "metadata": {},
   "outputs": [],
   "source": [
    "#3. Array Manipulation Functions\n",
    "\n",
    "def new_array(arr):\n",
    "    code = np.vstack(ecom[0:30, 2])\n",
    "    qty = np.vstack(ecom[0:30, 3])\n",
    "    new_array = np.hstack((code, qty))\n",
    "    return new_array"
   ]
  },
  {
   "cell_type": "code",
   "execution_count": 18,
   "id": "8d260b66",
   "metadata": {},
   "outputs": [
    {
     "data": {
      "text/plain": [
       "array([[20000,     7],\n",
       "       [20001,     4],\n",
       "       [20002,     5],\n",
       "       [20000,     3],\n",
       "       [20003,     8],\n",
       "       [20008,     8],\n",
       "       [20005,     4],\n",
       "       [20004,     4],\n",
       "       [20003,     1],\n",
       "       [20002,     1],\n",
       "       [20009,     6],\n",
       "       [20001,     4],\n",
       "       [20004,     5],\n",
       "       [20003,     7],\n",
       "       [20002,     7],\n",
       "       [20008,     8],\n",
       "       [20003,     4],\n",
       "       [20003,     1],\n",
       "       [20009,     9],\n",
       "       [20001,     5],\n",
       "       [20000,     1],\n",
       "       [20000,     8],\n",
       "       [20004,     5],\n",
       "       [20008,     3],\n",
       "       [20008,     5],\n",
       "       [20002,     4],\n",
       "       [20000,     3],\n",
       "       [20007,     7],\n",
       "       [20009,     1],\n",
       "       [20006,     5]])"
      ]
     },
     "execution_count": 18,
     "metadata": {},
     "output_type": "execute_result"
    }
   ],
   "source": [
    "new_array(ecom)"
   ]
  },
  {
   "cell_type": "code",
   "execution_count": 19,
   "id": "5e94c3b7",
   "metadata": {},
   "outputs": [
    {
     "name": "stdout",
     "output_type": "stream",
     "text": [
      "int64\n"
     ]
    }
   ],
   "source": [
    "#print(new_array(ecom)[:, 0].dtype)\n",
    "print(column_type(new_array(ecom), 1))"
   ]
  },
  {
   "cell_type": "code",
   "execution_count": 20,
   "id": "fa35c7ef",
   "metadata": {},
   "outputs": [
    {
     "name": "stdout",
     "output_type": "stream",
     "text": [
      "[[1 185 20000 7 20240804 17]\n",
      " [2 194 20001 4 20240801 4]\n",
      " [3 127 20002 5 20240808 19]\n",
      " [4 101 20000 3 20240808 1]\n",
      " [5 132 20003 8 20240807 18]\n",
      " [6 169 20008 8 20240803 6]\n",
      " [7 197 20005 4 20240808 17]\n",
      " [8 137 20004 4 20240808 5]\n",
      " [9 133 20003 1 20240809 12]\n",
      " [10 119 20002 1 20240806 18]\n",
      " [11 172 20009 6 20240801 19]\n",
      " [12 128 20001 4 20240808 8]\n",
      " [13 144 20004 5 20240807 12]\n",
      " [14 115 20003 7 20240808 4]\n",
      " [15 142 20002 7 20240804 9]\n",
      " [16 126 20008 8 20240801 14]\n",
      " [17 151 20003 4 20240807 14]\n",
      " [18 139 20003 1 20240801 6]\n",
      " [19 113 20009 9 20240803 9]\n",
      " [20 116 20001 5 20240803 12]\n",
      " [21 120 20000 1 20240805 8]\n",
      " [22 111 20000 8 20240807 18]\n",
      " [23 156 20004 5 20240807 14]\n",
      " [24 182 20008 3 20240807 19]\n",
      " [25 163 20008 5 20240805 6]\n",
      " [26 114 20002 4 20240801 6]\n",
      " [27 196 20000 3 20240804 15]\n",
      " [28 138 20007 7 20240802 4]\n",
      " [29 108 20009 1 20240804 13]\n",
      " [30 119 20006 5 20240808 5]]\n"
     ]
    }
   ],
   "source": [
    "print(ecom)"
   ]
  },
  {
   "cell_type": "code",
   "execution_count": 21,
   "id": "49588ca5",
   "metadata": {},
   "outputs": [],
   "source": [
    "def transactions_amt(arr):\n",
    "    users, transaction_counts = np.unique(arr[0:30, 1], return_counts=True)   \n",
    "    code = np.vstack(users[0:30, None])\n",
    "    amt = np.vstack(transaction_counts[0:30, None])\n",
    "    new_array = np.hstack((code, amt))\n",
    "\n",
    "    return (new_array)\n",
    "#users, transaction_counts"
   ]
  },
  {
   "cell_type": "code",
   "execution_count": 22,
   "id": "1806fbc6",
   "metadata": {},
   "outputs": [
    {
     "data": {
      "text/plain": [
       "array([[101, 1],\n",
       "       [108, 1],\n",
       "       [111, 1],\n",
       "       [113, 1],\n",
       "       [114, 1],\n",
       "       [115, 1],\n",
       "       [116, 1],\n",
       "       [119, 2],\n",
       "       [120, 1],\n",
       "       [126, 1],\n",
       "       [127, 1],\n",
       "       [128, 1],\n",
       "       [132, 1],\n",
       "       [133, 1],\n",
       "       [137, 1],\n",
       "       [138, 1],\n",
       "       [139, 1],\n",
       "       [142, 1],\n",
       "       [144, 1],\n",
       "       [151, 1],\n",
       "       [156, 1],\n",
       "       [163, 1],\n",
       "       [169, 1],\n",
       "       [172, 1],\n",
       "       [182, 1],\n",
       "       [185, 1],\n",
       "       [194, 1],\n",
       "       [196, 1],\n",
       "       [197, 1]], dtype=object)"
      ]
     },
     "execution_count": 22,
     "metadata": {},
     "output_type": "execute_result"
    }
   ],
   "source": [
    "transactions_amt(ecom)"
   ]
  },
  {
   "cell_type": "code",
   "execution_count": 23,
   "id": "7beea30b",
   "metadata": {},
   "outputs": [],
   "source": [
    "# arr = np.array([1, 2, np.nan, 4, 5])\n",
    "# mask = np.isnan(arr)\n",
    "\n",
    "# masked_array = np.ma.array(arr, mask=mask)\n",
    "\n",
    "# print(masked_array.compressed()) # [1. 2. 4. 5.]\n",
    "# print(masked_array.mask) # [False False  True False False]\n",
    "# print(masked_array.mean()) # 3.0\n",
    "# print(masked_array * 2) # [2.0 4.0 -- 8.0 10.0]"
   ]
  },
  {
   "cell_type": "code",
   "execution_count": 24,
   "id": "f13c9105",
   "metadata": {},
   "outputs": [],
   "source": [
    "#### Cant replace with mask in specific column in matrix\n",
    "def masking(arr):\n",
    "    mask = np.ma.masked_where(arr[:, 3] < 2, arr[:, 3])\n",
    "    return mask "
   ]
  },
  {
   "cell_type": "code",
   "execution_count": 25,
   "id": "d472ad43",
   "metadata": {},
   "outputs": [
    {
     "data": {
      "text/plain": [
       "masked_array(data=[7, 4, 5, 3, 8, 8, 4, 4, --, --, 6, 4, 5, 7, 7, 8, 4,\n",
       "                   --, 9, 5, --, 8, 5, 3, 5, 4, 3, 7, --, 5],\n",
       "             mask=[False, False, False, False, False, False, False, False,\n",
       "                    True,  True, False, False, False, False, False, False,\n",
       "                   False,  True, False, False,  True, False, False, False,\n",
       "                   False, False, False, False,  True, False],\n",
       "       fill_value='?',\n",
       "            dtype=object)"
      ]
     },
     "execution_count": 25,
     "metadata": {},
     "output_type": "execute_result"
    }
   ],
   "source": [
    "masking(ecom)"
   ]
  },
  {
   "cell_type": "code",
   "execution_count": 27,
   "id": "abe69418",
   "metadata": {},
   "outputs": [],
   "source": [
    "def increaser(arr):\n",
    "    \n",
    "    for line in arr:\n",
    "        line[5] = round((line[5] * 1.1), 2)\n",
    "    return arr"
   ]
  },
  {
   "cell_type": "code",
   "execution_count": 28,
   "id": "ece20401",
   "metadata": {},
   "outputs": [
    {
     "data": {
      "text/plain": [
       "array([[1, 185, 20000, 7, 20240804, 18.7],\n",
       "       [2, 194, 20001, 4, 20240801, 4.4],\n",
       "       [3, 127, 20002, 5, 20240808, 20.9],\n",
       "       [4, 101, 20000, 3, 20240808, 1.1],\n",
       "       [5, 132, 20003, 8, 20240807, 19.8],\n",
       "       [6, 169, 20008, 8, 20240803, 6.6],\n",
       "       [7, 197, 20005, 4, 20240808, 18.7],\n",
       "       [8, 137, 20004, 4, 20240808, 5.5],\n",
       "       [9, 133, 20003, 1, 20240809, 13.2],\n",
       "       [10, 119, 20002, 1, 20240806, 19.8],\n",
       "       [11, 172, 20009, 6, 20240801, 20.9],\n",
       "       [12, 128, 20001, 4, 20240808, 8.8],\n",
       "       [13, 144, 20004, 5, 20240807, 13.2],\n",
       "       [14, 115, 20003, 7, 20240808, 4.4],\n",
       "       [15, 142, 20002, 7, 20240804, 9.9],\n",
       "       [16, 126, 20008, 8, 20240801, 15.4],\n",
       "       [17, 151, 20003, 4, 20240807, 15.4],\n",
       "       [18, 139, 20003, 1, 20240801, 6.6],\n",
       "       [19, 113, 20009, 9, 20240803, 9.9],\n",
       "       [20, 116, 20001, 5, 20240803, 13.2],\n",
       "       [21, 120, 20000, 1, 20240805, 8.8],\n",
       "       [22, 111, 20000, 8, 20240807, 19.8],\n",
       "       [23, 156, 20004, 5, 20240807, 15.4],\n",
       "       [24, 182, 20008, 3, 20240807, 20.9],\n",
       "       [25, 163, 20008, 5, 20240805, 6.6],\n",
       "       [26, 114, 20002, 4, 20240801, 6.6],\n",
       "       [27, 196, 20000, 3, 20240804, 16.5],\n",
       "       [28, 138, 20007, 7, 20240802, 4.4],\n",
       "       [29, 108, 20009, 1, 20240804, 14.3],\n",
       "       [30, 119, 20006, 5, 20240808, 5.5]], dtype=object)"
      ]
     },
     "execution_count": 28,
     "metadata": {},
     "output_type": "execute_result"
    }
   ],
   "source": [
    "increaser(ecom)"
   ]
  },
  {
   "cell_type": "code",
   "execution_count": 44,
   "id": "44a2220b",
   "metadata": {},
   "outputs": [],
   "source": [
    "def greather_1(arr):\n",
    "    #new_array = np.zeros(shape=(1, 6))\n",
    "    new_array = np.empty(shape=(0, 6))\n",
    "    for line in arr:\n",
    "        if line[3] > 1:\n",
    "            new_array = np.vstack([new_array, line])\n",
    "            \n",
    "    return(new_array)        "
   ]
  },
  {
   "cell_type": "code",
   "execution_count": 45,
   "id": "ec88fd16",
   "metadata": {},
   "outputs": [
    {
     "data": {
      "text/plain": [
       "array([[1, 185, 20000, 7, 20240804, 18.7],\n",
       "       [2, 194, 20001, 4, 20240801, 4.4],\n",
       "       [3, 127, 20002, 5, 20240808, 20.9],\n",
       "       [4, 101, 20000, 3, 20240808, 1.1],\n",
       "       [5, 132, 20003, 8, 20240807, 19.8],\n",
       "       [6, 169, 20008, 8, 20240803, 6.6],\n",
       "       [7, 197, 20005, 4, 20240808, 18.7],\n",
       "       [8, 137, 20004, 4, 20240808, 5.5],\n",
       "       [11, 172, 20009, 6, 20240801, 20.9],\n",
       "       [12, 128, 20001, 4, 20240808, 8.8],\n",
       "       [13, 144, 20004, 5, 20240807, 13.2],\n",
       "       [14, 115, 20003, 7, 20240808, 4.4],\n",
       "       [15, 142, 20002, 7, 20240804, 9.9],\n",
       "       [16, 126, 20008, 8, 20240801, 15.4],\n",
       "       [17, 151, 20003, 4, 20240807, 15.4],\n",
       "       [19, 113, 20009, 9, 20240803, 9.9],\n",
       "       [20, 116, 20001, 5, 20240803, 13.2],\n",
       "       [22, 111, 20000, 8, 20240807, 19.8],\n",
       "       [23, 156, 20004, 5, 20240807, 15.4],\n",
       "       [24, 182, 20008, 3, 20240807, 20.9],\n",
       "       [25, 163, 20008, 5, 20240805, 6.6],\n",
       "       [26, 114, 20002, 4, 20240801, 6.6],\n",
       "       [27, 196, 20000, 3, 20240804, 16.5],\n",
       "       [28, 138, 20007, 7, 20240802, 4.4],\n",
       "       [30, 119, 20006, 5, 20240808, 5.5]], dtype=object)"
      ]
     },
     "execution_count": 45,
     "metadata": {},
     "output_type": "execute_result"
    }
   ],
   "source": [
    "greather_1(ecom)"
   ]
  },
  {
   "cell_type": "code",
   "execution_count": 31,
   "id": "c966d775",
   "metadata": {},
   "outputs": [],
   "source": [
    "def comparison_revenue_by_date(arr, date1, date2):\n",
    "    dates = {}\n",
    "  \n",
    "    for items in arr:\n",
    "       # print (str(items[4]) + ' -> ' + str(items[5]))\n",
    "\n",
    "        if items[4] in dates:\n",
    "            dates[items[4]] = dates.get(items[4], 0) + round(items[5], 2)\n",
    "        else:\n",
    "            dates[items[4]] = items[5]\n",
    "\n",
    "    #print (dates)\n",
    "    \n",
    "    for date, value in dates.items():\n",
    "        if date in (date1, date2):\n",
    "            print ('For date ' + str(date) + ', revenue = ' + str(round(value, 2)))\n"
   ]
  },
  {
   "cell_type": "code",
   "execution_count": 32,
   "id": "ca3c7d62",
   "metadata": {},
   "outputs": [
    {
     "name": "stdout",
     "output_type": "stream",
     "text": [
      "For date 20240807, revenue = 104.5\n",
      "For date 20240803, revenue = 29.7\n"
     ]
    }
   ],
   "source": [
    "comparison_revenue_by_date(ecom, 20240807, 20240803)"
   ]
  },
  {
   "cell_type": "code",
   "execution_count": 33,
   "id": "8671cb01",
   "metadata": {},
   "outputs": [],
   "source": [
    "# Indexing and Slicing Functions:\n",
    "def user_trans(arr, user_id):\n",
    "    for line in arr:\n",
    "        if line[1] == user_id:\n",
    "            print (line)\n",
    "\n",
    "#OR\n",
    "def user_trans2(arr, user):\n",
    "    res = np.where(arr[:, 1] == user)\n",
    "    print(res)\n",
    "    \n",
    "    for line in res:\n",
    "        print (arr[line])"
   ]
  },
  {
   "cell_type": "code",
   "execution_count": 35,
   "id": "f834f3d5",
   "metadata": {},
   "outputs": [
    {
     "name": "stdout",
     "output_type": "stream",
     "text": [
      "[23 156 20004 5 20240807 15.4]\n",
      "(array([22]),)\n",
      "[[23 156 20004 5 20240807 15.4]]\n"
     ]
    }
   ],
   "source": [
    "user_trans(ecom, 156)\n",
    "user_trans2(ecom, 156)"
   ]
  },
  {
   "cell_type": "code",
   "execution_count": 36,
   "id": "272dc499",
   "metadata": {},
   "outputs": [],
   "source": [
    "def between_dates(arr, date1, date2):\n",
    "    if date1 > date2:\n",
    "        date1, date2 = date2, date1\n",
    "        \n",
    "    for line in arr:\n",
    "        if line[4] >= date1 and line[4] <= date2:\n",
    "            print(line)\n",
    "            "
   ]
  },
  {
   "cell_type": "code",
   "execution_count": 37,
   "id": "a912e8b5",
   "metadata": {},
   "outputs": [
    {
     "name": "stdout",
     "output_type": "stream",
     "text": [
      "[1 185 20000 7 20240804 18.7]\n",
      "[6 169 20008 8 20240803 6.6]\n",
      "[10 119 20002 1 20240806 19.8]\n",
      "[15 142 20002 7 20240804 9.9]\n",
      "[19 113 20009 9 20240803 9.9]\n",
      "[20 116 20001 5 20240803 13.2]\n",
      "[21 120 20000 1 20240805 8.8]\n",
      "[25 163 20008 5 20240805 6.6]\n",
      "[27 196 20000 3 20240804 16.5]\n",
      "[29 108 20009 1 20240804 14.3]\n"
     ]
    }
   ],
   "source": [
    "between_dates(ecom, 20240806, 20240803)"
   ]
  },
  {
   "cell_type": "code",
   "execution_count": 38,
   "id": "f9b85aa5",
   "metadata": {},
   "outputs": [],
   "source": [
    "def top_5_products_by_revenue(arr, product_ids, revenues):\n",
    "    \n",
    "    #Determine unique products and total revenue by every one\n",
    "    unique_products, indices = np.unique(product_ids, return_inverse=True)\n",
    "    total_revenue_per_product = np.zeros(len(unique_products))\n",
    "    np.add.at(total_revenue_per_product, indices, revenues)\n",
    "    \n",
    "    #Find indexes of top 5 products by revenu\n",
    "    top_5_indices = np.argsort(total_revenue_per_product)[-5:]\n",
    "\n",
    "    #Get identificators of top-5 products\n",
    "    top_5_products = unique_products[top_5_indices]\n",
    "\n",
    "    # Retriving transactions for top-5 bproducts\n",
    "    top_5_transactions = arr[np.isin(product_ids, top_5_products)]\n",
    "    \n",
    "    return top_5_transactions"
   ]
  },
  {
   "cell_type": "code",
   "execution_count": 39,
   "id": "25f9c111",
   "metadata": {},
   "outputs": [
    {
     "name": "stdout",
     "output_type": "stream",
     "text": [
      "Transactions for top-5 bproducts by revenue:\n",
      "[[1 185 20000 7 20240804 18.7]\n",
      " [3 127 20002 5 20240808 20.9]\n",
      " [4 101 20000 3 20240808 1.1]\n",
      " [5 132 20003 8 20240807 19.8]\n",
      " [6 169 20008 8 20240803 6.6]\n",
      " [9 133 20003 1 20240809 13.2]\n",
      " [10 119 20002 1 20240806 19.8]\n",
      " [11 172 20009 6 20240801 20.9]\n",
      " [14 115 20003 7 20240808 4.4]\n",
      " [15 142 20002 7 20240804 9.9]\n",
      " [16 126 20008 8 20240801 15.4]\n",
      " [17 151 20003 4 20240807 15.4]\n",
      " [18 139 20003 1 20240801 6.6]\n",
      " [19 113 20009 9 20240803 9.9]\n",
      " [21 120 20000 1 20240805 8.8]\n",
      " [22 111 20000 8 20240807 19.8]\n",
      " [24 182 20008 3 20240807 20.9]\n",
      " [25 163 20008 5 20240805 6.6]\n",
      " [26 114 20002 4 20240801 6.6]\n",
      " [27 196 20000 3 20240804 16.5]\n",
      " [29 108 20009 1 20240804 14.3]]\n"
     ]
    }
   ],
   "source": [
    "product_ids = ecom[:, 2]\n",
    "revenues = ecom[:, 5].astype(float)\n",
    "\n",
    " # Retriving transactions for top-5 bproducts by revenue\n",
    "top_transactions = top_5_products_by_revenue(ecom, product_ids, revenues)\n",
    "\n",
    "print('Transactions for top-5 bproducts by revenue:')\n",
    "print(top_transactions)"
   ]
  },
  {
   "cell_type": "code",
   "execution_count": null,
   "id": "43442428",
   "metadata": {},
   "outputs": [],
   "source": []
  }
 ],
 "metadata": {
  "kernelspec": {
   "display_name": "Python 3 (ipykernel)",
   "language": "python",
   "name": "python3"
  },
  "language_info": {
   "codemirror_mode": {
    "name": "ipython",
    "version": 3
   },
   "file_extension": ".py",
   "mimetype": "text/x-python",
   "name": "python",
   "nbconvert_exporter": "python",
   "pygments_lexer": "ipython3",
   "version": "3.11.5"
  }
 },
 "nbformat": 4,
 "nbformat_minor": 5
}
