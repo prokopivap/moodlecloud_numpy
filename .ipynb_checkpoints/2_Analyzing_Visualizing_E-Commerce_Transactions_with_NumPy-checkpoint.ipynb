{
 "cells": [
  {
   "cell_type": "code",
   "execution_count": 555,
   "id": "06fd426f",
   "metadata": {},
   "outputs": [],
   "source": [
    "transaction_id = np.arange(1, 31)\n",
    "user_id = np.random.randint(100, 200, size=(30, 1))\n",
    "#product_id = np.random.randint(20000, 30000, size=(30, 1))\n",
    "product_id = np.random.randint(20000, 20010, size=(30, 1))\n",
    "quantity = np.random.randint(1, 10, size=(30, 1))\n",
    "price = np.random.uniform(1,20, (30,1)).round(2)\n",
    "\n",
    "#start_date = np.datetime64('2024-06-01')\n",
    "#end_date = np.datetime64('2024-12-10')\n",
    "#timestamp = np.arange(start_date, end_date, 3, dtype='datetime64[D]')\n",
    "\n",
    "start_date = 20240801\n",
    "end_date = 20240810\n",
    "timestamp = np.random.randint(start_date, end_date, size=(30, 1))\n",
    "\n",
    "\n",
    "#print(user_id)"
   ]
  },
  {
   "cell_type": "code",
   "execution_count": 556,
   "id": "fab29423",
   "metadata": {},
   "outputs": [],
   "source": [
    "multidim = np.column_stack((transaction_id, user_id, product_id, quantity, timestamp, price))\n",
    "ecom = multidim.astype(object)"
   ]
  },
  {
   "cell_type": "code",
   "execution_count": 557,
   "id": "257eca44",
   "metadata": {},
   "outputs": [
    {
     "name": "stdout",
     "output_type": "stream",
     "text": [
      "[[1.0 199.0 20004.0 5.0 20240807.0 15.39]\n",
      " [2.0 104.0 20008.0 8.0 20240806.0 17.86]\n",
      " [3.0 144.0 20003.0 8.0 20240804.0 4.34]\n",
      " [4.0 112.0 20000.0 6.0 20240809.0 18.86]\n",
      " [5.0 121.0 20009.0 3.0 20240805.0 4.77]\n",
      " [6.0 147.0 20000.0 6.0 20240805.0 17.83]\n",
      " [7.0 124.0 20009.0 7.0 20240808.0 4.61]\n",
      " [8.0 105.0 20002.0 4.0 20240805.0 6.96]\n",
      " [9.0 124.0 20007.0 2.0 20240809.0 17.5]\n",
      " [10.0 119.0 20008.0 3.0 20240808.0 18.22]\n",
      " [11.0 108.0 20003.0 8.0 20240809.0 19.76]\n",
      " [12.0 164.0 20002.0 6.0 20240804.0 19.09]\n",
      " [13.0 146.0 20004.0 6.0 20240806.0 3.94]\n",
      " [14.0 117.0 20002.0 6.0 20240807.0 3.05]\n",
      " [15.0 193.0 20000.0 4.0 20240805.0 6.83]\n",
      " [16.0 151.0 20009.0 7.0 20240807.0 13.39]\n",
      " [17.0 119.0 20001.0 2.0 20240802.0 18.93]\n",
      " [18.0 193.0 20003.0 3.0 20240802.0 18.82]\n",
      " [19.0 152.0 20008.0 2.0 20240805.0 14.61]\n",
      " [20.0 135.0 20002.0 7.0 20240801.0 13.19]\n",
      " [21.0 107.0 20005.0 9.0 20240804.0 15.65]\n",
      " [22.0 158.0 20004.0 1.0 20240802.0 12.57]\n",
      " [23.0 127.0 20005.0 2.0 20240805.0 17.06]\n",
      " [24.0 138.0 20002.0 8.0 20240808.0 13.43]\n",
      " [25.0 186.0 20007.0 4.0 20240807.0 7.94]\n",
      " [26.0 142.0 20001.0 2.0 20240806.0 7.54]\n",
      " [27.0 164.0 20009.0 4.0 20240803.0 9.81]\n",
      " [28.0 173.0 20003.0 7.0 20240803.0 1.1]\n",
      " [29.0 142.0 20004.0 2.0 20240803.0 2.11]\n",
      " [30.0 191.0 20005.0 9.0 20240809.0 10.05]]\n"
     ]
    }
   ],
   "source": [
    "print(ecom)"
   ]
  },
  {
   "cell_type": "code",
   "execution_count": 558,
   "id": "936e6a78",
   "metadata": {},
   "outputs": [
    {
     "name": "stdout",
     "output_type": "stream",
     "text": [
      "[[1 199 20004 5 20240807 15.39]\n",
      " [2 104 20008 8 20240806 17.86]\n",
      " [3 144 20003 8 20240804 4.34]\n",
      " [4 112 20000 6 20240809 18.86]\n",
      " [5 121 20009 3 20240805 4.77]\n",
      " [6 147 20000 6 20240805 17.83]\n",
      " [7 124 20009 7 20240808 4.61]\n",
      " [8 105 20002 4 20240805 6.96]\n",
      " [9 124 20007 2 20240809 17.5]\n",
      " [10 119 20008 3 20240808 18.22]\n",
      " [11 108 20003 8 20240809 19.76]\n",
      " [12 164 20002 6 20240804 19.09]\n",
      " [13 146 20004 6 20240806 3.94]\n",
      " [14 117 20002 6 20240807 3.05]\n",
      " [15 193 20000 4 20240805 6.83]\n",
      " [16 151 20009 7 20240807 13.39]\n",
      " [17 119 20001 2 20240802 18.93]\n",
      " [18 193 20003 3 20240802 18.82]\n",
      " [19 152 20008 2 20240805 14.61]\n",
      " [20 135 20002 7 20240801 13.19]\n",
      " [21 107 20005 9 20240804 15.65]\n",
      " [22 158 20004 1 20240802 12.57]\n",
      " [23 127 20005 2 20240805 17.06]\n",
      " [24 138 20002 8 20240808 13.43]\n",
      " [25 186 20007 4 20240807 7.94]\n",
      " [26 142 20001 2 20240806 7.54]\n",
      " [27 164 20009 4 20240803 9.81]\n",
      " [28 173 20003 7 20240803 1.1]\n",
      " [29 142 20004 2 20240803 2.11]\n",
      " [30 191 20005 9 20240809 10.05]]\n"
     ]
    }
   ],
   "source": [
    "ecom[0:30,0:5] = ecom[0:30,0:5].astype(int)\n",
    "print(ecom)\n",
    "#a[:,0] = a[:,0].astype(int)"
   ]
  },
  {
   "cell_type": "code",
   "execution_count": 521,
   "id": "ae095406",
   "metadata": {},
   "outputs": [],
   "source": [
    "# w = np.zeros([30,6]).astype(int)\n",
    "# w[0:30, 0] = transaction_id\n",
    "\n",
    "# w[0:30, 4] = price\n",
    "# print(w)"
   ]
  },
  {
   "cell_type": "code",
   "execution_count": 522,
   "id": "1e583f3a",
   "metadata": {},
   "outputs": [],
   "source": [
    "def revenue(arr):\n",
    "    rev = 0\n",
    "    for val in arr:\n",
    "        sum = 0\n",
    "        sum = val[3] * val[5]\n",
    "        #print (sum)\n",
    "        rev = rev + sum\n",
    "    return(round(rev, 2))"
   ]
  },
  {
   "cell_type": "code",
   "execution_count": 523,
   "id": "efff1436",
   "metadata": {},
   "outputs": [
    {
     "data": {
      "text/plain": [
       "1742.07"
      ]
     },
     "execution_count": 523,
     "metadata": {},
     "output_type": "execute_result"
    }
   ],
   "source": [
    "revenue(ecom)"
   ]
  },
  {
   "cell_type": "code",
   "execution_count": 524,
   "id": "f6616cc8",
   "metadata": {},
   "outputs": [],
   "source": [
    "def unq_users(arr):\n",
    "    users = []\n",
    "    for user in arr:\n",
    "        if user[1] not in users:\n",
    "            users.append(user[1])\n",
    "    unq_users = len(users)\n",
    "    return(unq_users)"
   ]
  },
  {
   "cell_type": "code",
   "execution_count": 525,
   "id": "16ff67d6",
   "metadata": {},
   "outputs": [
    {
     "data": {
      "text/plain": [
       "24"
      ]
     },
     "execution_count": 525,
     "metadata": {},
     "output_type": "execute_result"
    }
   ],
   "source": [
    "unq_users(ecom)"
   ]
  },
  {
   "cell_type": "code",
   "execution_count": 526,
   "id": "e5bba419",
   "metadata": {},
   "outputs": [],
   "source": [
    "def most_purchased(arr):\n",
    "    mp_d = {}\n",
    "  \n",
    "    for items in arr:\n",
    "        #print (str(items[2]) + ' -> ' + str(items[3]))\n",
    "\n",
    "        if items[2] in mp_d:\n",
    "            mp_d[items[2]] = mp_d.get(items[2], 0) + items[3]\n",
    "        else:\n",
    "            mp_d[items[2]] = items[3]\n",
    "\n",
    "    print (mp_d)\n",
    "    \n",
    "    most_purchased_product_id = ''\n",
    "    qty = 0\n",
    "    for key, value in mp_d.items():\n",
    "        if value > qty:\n",
    "            qty += value\n",
    "            most_purchased_product_id = key \n",
    "            \n",
    "    print (most_purchased_product_id)"
   ]
  },
  {
   "cell_type": "code",
   "execution_count": 527,
   "id": "52fa32af",
   "metadata": {},
   "outputs": [
    {
     "name": "stdout",
     "output_type": "stream",
     "text": [
      "{20002: 17, 20006: 30, 20007: 21, 20009: 16, 20005: 27, 20004: 9, 20001: 16, 20003: 16, 20008: 14, 20000: 8}\n",
      "20006\n"
     ]
    }
   ],
   "source": [
    "most_purchased(ecom)"
   ]
  },
  {
   "cell_type": "code",
   "execution_count": 374,
   "id": "79705cd2",
   "metadata": {},
   "outputs": [],
   "source": [
    "def cust_price_type(arr):\n",
    "    ecom[0:30,5] = ecom[0:30,5].astype(int)\n",
    "    return(ecom)"
   ]
  },
  {
   "cell_type": "code",
   "execution_count": 375,
   "id": "32ed9a90",
   "metadata": {},
   "outputs": [
    {
     "data": {
      "text/plain": [
       "array([[1.0, 188.0, 20002.0, 5.0, 20240806.0, 4],\n",
       "       [2.0, 128.0, 20007.0, 7.0, 20240806.0, 13],\n",
       "       [3.0, 188.0, 20007.0, 3.0, 20240803.0, 4],\n",
       "       [4.0, 159.0, 20001.0, 3.0, 20240807.0, 4],\n",
       "       [5.0, 111.0, 20000.0, 9.0, 20240802.0, 11],\n",
       "       [6.0, 135.0, 20005.0, 2.0, 20240801.0, 17],\n",
       "       [7.0, 177.0, 20009.0, 9.0, 20240806.0, 9],\n",
       "       [8.0, 104.0, 20005.0, 9.0, 20240808.0, 14],\n",
       "       [9.0, 183.0, 20001.0, 6.0, 20240801.0, 14],\n",
       "       [10.0, 181.0, 20001.0, 2.0, 20240807.0, 18],\n",
       "       [11.0, 113.0, 20002.0, 6.0, 20240809.0, 17],\n",
       "       [12.0, 136.0, 20009.0, 7.0, 20240801.0, 1],\n",
       "       [13.0, 168.0, 20007.0, 9.0, 20240806.0, 10],\n",
       "       [14.0, 175.0, 20003.0, 8.0, 20240806.0, 11],\n",
       "       [15.0, 196.0, 20003.0, 5.0, 20240807.0, 16],\n",
       "       [16.0, 117.0, 20002.0, 6.0, 20240804.0, 7],\n",
       "       [17.0, 175.0, 20008.0, 2.0, 20240809.0, 12],\n",
       "       [18.0, 181.0, 20001.0, 9.0, 20240804.0, 3],\n",
       "       [19.0, 186.0, 20006.0, 9.0, 20240809.0, 4],\n",
       "       [20.0, 127.0, 20001.0, 9.0, 20240807.0, 4],\n",
       "       [21.0, 110.0, 20009.0, 7.0, 20240807.0, 1],\n",
       "       [22.0, 130.0, 20000.0, 5.0, 20240802.0, 18],\n",
       "       [23.0, 156.0, 20009.0, 4.0, 20240802.0, 18],\n",
       "       [24.0, 110.0, 20006.0, 8.0, 20240804.0, 18],\n",
       "       [25.0, 173.0, 20002.0, 1.0, 20240804.0, 17],\n",
       "       [26.0, 159.0, 20009.0, 8.0, 20240807.0, 19],\n",
       "       [27.0, 152.0, 20007.0, 7.0, 20240803.0, 5],\n",
       "       [28.0, 178.0, 20001.0, 4.0, 20240802.0, 16],\n",
       "       [29.0, 114.0, 20004.0, 4.0, 20240804.0, 2],\n",
       "       [30.0, 161.0, 20004.0, 1.0, 20240803.0, 6]], dtype=object)"
      ]
     },
     "execution_count": 375,
     "metadata": {},
     "output_type": "execute_result"
    }
   ],
   "source": [
    "cust_price_type(ecom)"
   ]
  },
  {
   "cell_type": "code",
   "execution_count": 528,
   "id": "85cfadde",
   "metadata": {},
   "outputs": [],
   "source": [
    "def column_type(arr, column):\n",
    "    return arr[:, column].dtype"
   ]
  },
  {
   "cell_type": "code",
   "execution_count": 529,
   "id": "ddc6e027",
   "metadata": {},
   "outputs": [
    {
     "data": {
      "text/plain": [
       "dtype('O')"
      ]
     },
     "execution_count": 529,
     "metadata": {},
     "output_type": "execute_result"
    }
   ],
   "source": [
    "column_type(ecom, 5)"
   ]
  },
  {
   "cell_type": "code",
   "execution_count": 530,
   "id": "d52dc9ea",
   "metadata": {},
   "outputs": [],
   "source": [
    "#3. Array Manipulation Functions\n",
    "\n",
    "def new_array(arr):\n",
    "    code = np.vstack(ecom[0:30, 2])\n",
    "    qty = np.vstack(ecom[0:30, 3])\n",
    "    new_array = np.hstack((code, qty))\n",
    "    return new_array"
   ]
  },
  {
   "cell_type": "code",
   "execution_count": 531,
   "id": "8d260b66",
   "metadata": {},
   "outputs": [
    {
     "data": {
      "text/plain": [
       "array([[20002,     5],\n",
       "       [20006,     4],\n",
       "       [20007,     4],\n",
       "       [20007,     6],\n",
       "       [20009,     8],\n",
       "       [20005,     9],\n",
       "       [20006,     8],\n",
       "       [20004,     1],\n",
       "       [20001,     9],\n",
       "       [20003,     8],\n",
       "       [20008,     7],\n",
       "       [20006,     5],\n",
       "       [20005,     5],\n",
       "       [20006,     2],\n",
       "       [20008,     7],\n",
       "       [20006,     5],\n",
       "       [20007,     6],\n",
       "       [20005,     9],\n",
       "       [20007,     5],\n",
       "       [20004,     5],\n",
       "       [20003,     8],\n",
       "       [20000,     8],\n",
       "       [20009,     6],\n",
       "       [20001,     7],\n",
       "       [20004,     3],\n",
       "       [20005,     4],\n",
       "       [20002,     4],\n",
       "       [20002,     8],\n",
       "       [20006,     6],\n",
       "       [20009,     2]])"
      ]
     },
     "execution_count": 531,
     "metadata": {},
     "output_type": "execute_result"
    }
   ],
   "source": [
    "new_array(ecom)"
   ]
  },
  {
   "cell_type": "code",
   "execution_count": 532,
   "id": "5e94c3b7",
   "metadata": {},
   "outputs": [
    {
     "name": "stdout",
     "output_type": "stream",
     "text": [
      "int64\n"
     ]
    }
   ],
   "source": [
    "#print(new_array(ecom)[:, 0].dtype)\n",
    "print(column_type(new_array(ecom), 1))"
   ]
  },
  {
   "cell_type": "code",
   "execution_count": 536,
   "id": "fa35c7ef",
   "metadata": {},
   "outputs": [
    {
     "name": "stdout",
     "output_type": "stream",
     "text": [
      "[[1 111 20002 5 20240801 13.2]\n",
      " [2 135 20006 4 20240801 17.96]\n",
      " [3 161 20007 4 20240804 12.17]\n",
      " [4 161 20007 6 20240804 11.58]\n",
      " [5 182 20009 8 20240802 19.52]\n",
      " [6 178 20005 9 20240801 11.12]\n",
      " [7 161 20006 8 20240808 4.99]\n",
      " [8 122 20004 1 20240808 13.79]\n",
      " [9 166 20001 9 20240807 9.76]\n",
      " [10 168 20003 8 20240803 16.82]\n",
      " [11 163 20008 7 20240808 4.73]\n",
      " [12 172 20006 5 20240803 3.15]\n",
      " [13 103 20005 5 20240801 8.35]\n",
      " [14 142 20006 2 20240808 19.49]\n",
      " [15 176 20008 7 20240809 7.28]\n",
      " [16 167 20006 5 20240809 18.12]\n",
      " [17 161 20007 6 20240808 11.9]\n",
      " [18 197 20005 9 20240803 14.3]\n",
      " [19 164 20007 5 20240801 7.99]\n",
      " [20 110 20004 5 20240806 10.91]\n",
      " [21 179 20003 8 20240804 6.28]\n",
      " [22 175 20000 8 20240804 4.56]\n",
      " [23 120 20009 6 20240803 11.02]\n",
      " [24 169 20001 7 20240808 13.07]\n",
      " [25 179 20004 3 20240804 16.06]\n",
      " [26 154 20005 4 20240805 4.65]\n",
      " [27 170 20002 4 20240801 7.75]\n",
      " [28 164 20002 8 20240805 1.88]\n",
      " [29 151 20006 6 20240806 4.64]\n",
      " [30 151 20009 2 20240808 1.49]]\n"
     ]
    }
   ],
   "source": [
    "print(ecom)"
   ]
  },
  {
   "cell_type": "code",
   "execution_count": 534,
   "id": "49588ca5",
   "metadata": {},
   "outputs": [],
   "source": [
    "def transactions_amt(arr):\n",
    "    users, transaction_counts = np.unique(arr[0:30, 1], return_counts=True)   \n",
    "    code = np.vstack(users[0:30, None])\n",
    "    amt = np.vstack(transaction_counts[0:30, None])\n",
    "    new_array = np.hstack((code, amt))\n",
    "\n",
    "    return (new_array)\n",
    "#users, transaction_counts"
   ]
  },
  {
   "cell_type": "code",
   "execution_count": 537,
   "id": "1806fbc6",
   "metadata": {},
   "outputs": [
    {
     "data": {
      "text/plain": [
       "array([[103, 1],\n",
       "       [110, 1],\n",
       "       [111, 1],\n",
       "       [120, 1],\n",
       "       [122, 1],\n",
       "       [135, 1],\n",
       "       [142, 1],\n",
       "       [151, 2],\n",
       "       [154, 1],\n",
       "       [161, 4],\n",
       "       [163, 1],\n",
       "       [164, 2],\n",
       "       [166, 1],\n",
       "       [167, 1],\n",
       "       [168, 1],\n",
       "       [169, 1],\n",
       "       [170, 1],\n",
       "       [172, 1],\n",
       "       [175, 1],\n",
       "       [176, 1],\n",
       "       [178, 1],\n",
       "       [179, 2],\n",
       "       [182, 1],\n",
       "       [197, 1]], dtype=object)"
      ]
     },
     "execution_count": 537,
     "metadata": {},
     "output_type": "execute_result"
    }
   ],
   "source": [
    "transactions_amt(ecom)"
   ]
  },
  {
   "cell_type": "code",
   "execution_count": 559,
   "id": "7beea30b",
   "metadata": {},
   "outputs": [],
   "source": [
    "# arr = np.array([1, 2, np.nan, 4, 5])\n",
    "# mask = np.isnan(arr)\n",
    "\n",
    "# masked_array = np.ma.array(arr, mask=mask)\n",
    "\n",
    "# print(masked_array.compressed()) # [1. 2. 4. 5.]\n",
    "# print(masked_array.mask) # [False False  True False False]\n",
    "# print(masked_array.mean()) # 3.0\n",
    "# print(masked_array * 2) # [2.0 4.0 -- 8.0 10.0]"
   ]
  },
  {
   "cell_type": "code",
   "execution_count": 538,
   "id": "f13c9105",
   "metadata": {},
   "outputs": [],
   "source": [
    "#### Cant replace with mask in specific column in matrix\n",
    "def masking(arr):\n",
    "    mask = np.ma.masked_where(arr[:, 3] < 2, arr[:, 3])\n",
    "    return mask "
   ]
  },
  {
   "cell_type": "code",
   "execution_count": 539,
   "id": "d472ad43",
   "metadata": {},
   "outputs": [
    {
     "data": {
      "text/plain": [
       "masked_array(data=[5, 4, 4, 6, 8, 9, 8, --, 9, 8, 7, 5, 5, 2, 7, 5, 6, 9,\n",
       "                   5, 5, 8, 8, 6, 7, 3, 4, 4, 8, 6, 2],\n",
       "             mask=[False, False, False, False, False, False, False,  True,\n",
       "                   False, False, False, False, False, False, False, False,\n",
       "                   False, False, False, False, False, False, False, False,\n",
       "                   False, False, False, False, False, False],\n",
       "       fill_value='?',\n",
       "            dtype=object)"
      ]
     },
     "execution_count": 539,
     "metadata": {},
     "output_type": "execute_result"
    }
   ],
   "source": [
    "masking(ecom)"
   ]
  },
  {
   "cell_type": "code",
   "execution_count": 560,
   "id": "cda6b11f",
   "metadata": {},
   "outputs": [
    {
     "name": "stdout",
     "output_type": "stream",
     "text": [
      "15.39\n",
      "17.86\n",
      "4.34\n",
      "18.86\n",
      "4.77\n",
      "17.83\n",
      "4.61\n",
      "6.96\n",
      "17.5\n",
      "18.22\n",
      "19.76\n",
      "19.09\n",
      "3.94\n",
      "3.05\n",
      "6.83\n",
      "13.39\n",
      "18.93\n",
      "18.82\n",
      "14.61\n",
      "13.19\n",
      "15.65\n",
      "12.57\n",
      "17.06\n",
      "13.43\n",
      "7.94\n",
      "7.54\n",
      "9.81\n",
      "1.1\n",
      "2.11\n",
      "10.05\n"
     ]
    }
   ],
   "source": [
    "for line in ecom:\n",
    "    print (line[5])"
   ]
  },
  {
   "cell_type": "code",
   "execution_count": 561,
   "id": "abe69418",
   "metadata": {},
   "outputs": [],
   "source": [
    "def increaser(arr):\n",
    "    \n",
    "    for line in arr:\n",
    "        line[5] = round((line[5] * 1.1), 2)\n",
    "    return arr"
   ]
  },
  {
   "cell_type": "code",
   "execution_count": 562,
   "id": "ece20401",
   "metadata": {},
   "outputs": [
    {
     "data": {
      "text/plain": [
       "array([[1, 199, 20004, 5, 20240807, 16.93],\n",
       "       [2, 104, 20008, 8, 20240806, 19.65],\n",
       "       [3, 144, 20003, 8, 20240804, 4.77],\n",
       "       [4, 112, 20000, 6, 20240809, 20.75],\n",
       "       [5, 121, 20009, 3, 20240805, 5.25],\n",
       "       [6, 147, 20000, 6, 20240805, 19.61],\n",
       "       [7, 124, 20009, 7, 20240808, 5.07],\n",
       "       [8, 105, 20002, 4, 20240805, 7.66],\n",
       "       [9, 124, 20007, 2, 20240809, 19.25],\n",
       "       [10, 119, 20008, 3, 20240808, 20.04],\n",
       "       [11, 108, 20003, 8, 20240809, 21.74],\n",
       "       [12, 164, 20002, 6, 20240804, 21.0],\n",
       "       [13, 146, 20004, 6, 20240806, 4.33],\n",
       "       [14, 117, 20002, 6, 20240807, 3.35],\n",
       "       [15, 193, 20000, 4, 20240805, 7.51],\n",
       "       [16, 151, 20009, 7, 20240807, 14.73],\n",
       "       [17, 119, 20001, 2, 20240802, 20.82],\n",
       "       [18, 193, 20003, 3, 20240802, 20.7],\n",
       "       [19, 152, 20008, 2, 20240805, 16.07],\n",
       "       [20, 135, 20002, 7, 20240801, 14.51],\n",
       "       [21, 107, 20005, 9, 20240804, 17.22],\n",
       "       [22, 158, 20004, 1, 20240802, 13.83],\n",
       "       [23, 127, 20005, 2, 20240805, 18.77],\n",
       "       [24, 138, 20002, 8, 20240808, 14.77],\n",
       "       [25, 186, 20007, 4, 20240807, 8.73],\n",
       "       [26, 142, 20001, 2, 20240806, 8.29],\n",
       "       [27, 164, 20009, 4, 20240803, 10.79],\n",
       "       [28, 173, 20003, 7, 20240803, 1.21],\n",
       "       [29, 142, 20004, 2, 20240803, 2.32],\n",
       "       [30, 191, 20005, 9, 20240809, 11.06]], dtype=object)"
      ]
     },
     "execution_count": 562,
     "metadata": {},
     "output_type": "execute_result"
    }
   ],
   "source": [
    "increaser(ecom)"
   ]
  },
  {
   "cell_type": "code",
   "execution_count": 637,
   "id": "44a2220b",
   "metadata": {},
   "outputs": [],
   "source": [
    "#### How to create empty array and then add values to it in a correct way?\n",
    "def greather_1(arr):\n",
    "    new_array = np.zeros(shape=(1, 6))\n",
    "    #i = 0\n",
    "    for line in arr:\n",
    "        if line[3] > 1:\n",
    "            new_array = np.vstack([new_array, line])\n",
    "            #new_array[i] = np.vstack([new_array, line])\n",
    "            #i +=1\n",
    "    return(new_array)        "
   ]
  },
  {
   "cell_type": "code",
   "execution_count": 638,
   "id": "ec88fd16",
   "metadata": {},
   "outputs": [
    {
     "data": {
      "text/plain": [
       "array([[0.0, 0.0, 0.0, 0.0, 0.0, 0.0],\n",
       "       [1, 199, 20004, 5, 20240807, 16.93],\n",
       "       [2, 104, 20008, 8, 20240806, 19.65],\n",
       "       [3, 144, 20003, 8, 20240804, 4.77],\n",
       "       [4, 112, 20000, 6, 20240809, 20.75],\n",
       "       [5, 121, 20009, 3, 20240805, 5.25],\n",
       "       [6, 147, 20000, 6, 20240805, 19.61],\n",
       "       [7, 124, 20009, 7, 20240808, 5.07],\n",
       "       [8, 105, 20002, 4, 20240805, 7.66],\n",
       "       [9, 124, 20007, 2, 20240809, 19.25],\n",
       "       [10, 119, 20008, 3, 20240808, 20.04],\n",
       "       [11, 108, 20003, 8, 20240809, 21.74],\n",
       "       [12, 164, 20002, 6, 20240804, 21.0],\n",
       "       [13, 146, 20004, 6, 20240806, 4.33],\n",
       "       [14, 117, 20002, 6, 20240807, 3.35],\n",
       "       [15, 193, 20000, 4, 20240805, 7.51],\n",
       "       [16, 151, 20009, 7, 20240807, 14.73],\n",
       "       [17, 119, 20001, 2, 20240802, 20.82],\n",
       "       [18, 193, 20003, 3, 20240802, 20.7],\n",
       "       [19, 152, 20008, 2, 20240805, 16.07],\n",
       "       [20, 135, 20002, 7, 20240801, 14.51],\n",
       "       [21, 107, 20005, 9, 20240804, 17.22],\n",
       "       [23, 127, 20005, 2, 20240805, 18.77],\n",
       "       [24, 138, 20002, 8, 20240808, 14.77],\n",
       "       [25, 186, 20007, 4, 20240807, 8.73],\n",
       "       [26, 142, 20001, 2, 20240806, 8.29],\n",
       "       [27, 164, 20009, 4, 20240803, 10.79],\n",
       "       [28, 173, 20003, 7, 20240803, 1.21],\n",
       "       [29, 142, 20004, 2, 20240803, 2.32],\n",
       "       [30, 191, 20005, 9, 20240809, 11.06]], dtype=object)"
      ]
     },
     "execution_count": 638,
     "metadata": {},
     "output_type": "execute_result"
    }
   ],
   "source": [
    "greather_1(ecom)"
   ]
  },
  {
   "cell_type": "code",
   "execution_count": 603,
   "id": "c966d775",
   "metadata": {},
   "outputs": [],
   "source": [
    "def comparison_revenue_by_date(arr, date1, date2):\n",
    "    dates = {}\n",
    "  \n",
    "    for items in arr:\n",
    "       # print (str(items[4]) + ' -> ' + str(items[5]))\n",
    "\n",
    "        if items[4] in dates:\n",
    "            dates[items[4]] = dates.get(items[4], 0) + round(items[5], 2)\n",
    "        else:\n",
    "            dates[items[4]] = items[5]\n",
    "\n",
    "    #print (dates)\n",
    "    \n",
    "    for date, value in dates.items():\n",
    "        if date in (date1, date2):\n",
    "            print ('For date ' + str(date) + ', revenue = ' + str(round(value, 2)))\n"
   ]
  },
  {
   "cell_type": "code",
   "execution_count": 604,
   "id": "ca3c7d62",
   "metadata": {},
   "outputs": [
    {
     "name": "stdout",
     "output_type": "stream",
     "text": [
      "For date 20240807, revenue = 43.74\n",
      "For date 20240803, revenue = 14.32\n"
     ]
    }
   ],
   "source": [
    "comparison_revenue_by_date(ecom, 20240807, 20240803)"
   ]
  },
  {
   "cell_type": "code",
   "execution_count": 650,
   "id": "8671cb01",
   "metadata": {},
   "outputs": [],
   "source": [
    "# Indexing and Slicing Functions:\n",
    "def user_trans(arr, user_id):\n",
    "    for line in arr:\n",
    "        if line[1] == user_id:\n",
    "            print (line)\n",
    "\n",
    "#OR\n",
    "def user_trans2(arr, user):\n",
    "    res = np.where(arr[:, 1] == user)\n",
    "    print(res)\n",
    "    \n",
    "    for line in res:\n",
    "        print (arr[line])"
   ]
  },
  {
   "cell_type": "code",
   "execution_count": 651,
   "id": "f834f3d5",
   "metadata": {},
   "outputs": [
    {
     "name": "stdout",
     "output_type": "stream",
     "text": [
      "[12 164 20002 6 20240804 21.0]\n",
      "[27 164 20009 4 20240803 10.79]\n",
      "(array([11, 26]),)\n",
      "[[12 164 20002 6 20240804 21.0]\n",
      " [27 164 20009 4 20240803 10.79]]\n"
     ]
    }
   ],
   "source": [
    "user_trans(ecom, 164)\n",
    "user_trans2(ecom, 164)"
   ]
  },
  {
   "cell_type": "code",
   "execution_count": 631,
   "id": "272dc499",
   "metadata": {},
   "outputs": [],
   "source": [
    "def between_dates(arr, date1, date2):\n",
    "    if date1 > date2:\n",
    "        date1, date2 = date2, date1\n",
    "        \n",
    "    for line in arr:\n",
    "        if line[4] >= date1 and line[4] <= date2:\n",
    "            print(line)\n",
    "            "
   ]
  },
  {
   "cell_type": "code",
   "execution_count": 632,
   "id": "a912e8b5",
   "metadata": {},
   "outputs": [
    {
     "name": "stdout",
     "output_type": "stream",
     "text": [
      "[2 104 20008 8 20240806 19.65]\n",
      "[3 144 20003 8 20240804 4.77]\n",
      "[5 121 20009 3 20240805 5.25]\n",
      "[6 147 20000 6 20240805 19.61]\n",
      "[8 105 20002 4 20240805 7.66]\n",
      "[12 164 20002 6 20240804 21.0]\n",
      "[13 146 20004 6 20240806 4.33]\n",
      "[15 193 20000 4 20240805 7.51]\n",
      "[19 152 20008 2 20240805 16.07]\n",
      "[21 107 20005 9 20240804 17.22]\n",
      "[23 127 20005 2 20240805 18.77]\n",
      "[26 142 20001 2 20240806 8.29]\n",
      "[27 164 20009 4 20240803 10.79]\n",
      "[28 173 20003 7 20240803 1.21]\n",
      "[29 142 20004 2 20240803 2.32]\n"
     ]
    }
   ],
   "source": [
    "between_dates(ecom, 20240806, 20240803)"
   ]
  },
  {
   "cell_type": "code",
   "execution_count": 654,
   "id": "f9b85aa5",
   "metadata": {},
   "outputs": [],
   "source": [
    "def top_5_products_by_revenue(arr, product_ids, revenues):\n",
    "    \n",
    "    #Determine unique products and total revenue by every one\n",
    "    unique_products, indices = np.unique(product_ids, return_inverse=True)\n",
    "    total_revenue_per_product = np.zeros(len(unique_products))\n",
    "    np.add.at(total_revenue_per_product, indices, revenues)\n",
    "    \n",
    "    #Find indexes of top 5 products by revenu\n",
    "    top_5_indices = np.argsort(total_revenue_per_product)[-5:]\n",
    "\n",
    "    #Get identificators of top-5 products\n",
    "    top_5_products = unique_products[top_5_indices]\n",
    "\n",
    "    # Retriving transactions for top-5 bproducts\n",
    "    top_5_transactions = arr[np.isin(product_ids, top_5_products)]\n",
    "    \n",
    "    return top_5_transactions"
   ]
  },
  {
   "cell_type": "code",
   "execution_count": 655,
   "id": "25f9c111",
   "metadata": {},
   "outputs": [
    {
     "name": "stdout",
     "output_type": "stream",
     "text": [
      "Transactions for top-5 bproducts by revenue:\n",
      "[[2 104 20008 8 20240806 19.65]\n",
      " [3 144 20003 8 20240804 4.77]\n",
      " [4 112 20000 6 20240809 20.75]\n",
      " [6 147 20000 6 20240805 19.61]\n",
      " [8 105 20002 4 20240805 7.66]\n",
      " [10 119 20008 3 20240808 20.04]\n",
      " [11 108 20003 8 20240809 21.74]\n",
      " [12 164 20002 6 20240804 21.0]\n",
      " [14 117 20002 6 20240807 3.35]\n",
      " [15 193 20000 4 20240805 7.51]\n",
      " [18 193 20003 3 20240802 20.7]\n",
      " [19 152 20008 2 20240805 16.07]\n",
      " [20 135 20002 7 20240801 14.51]\n",
      " [21 107 20005 9 20240804 17.22]\n",
      " [23 127 20005 2 20240805 18.77]\n",
      " [24 138 20002 8 20240808 14.77]\n",
      " [28 173 20003 7 20240803 1.21]\n",
      " [30 191 20005 9 20240809 11.06]]\n"
     ]
    }
   ],
   "source": [
    "product_ids = ecom[:, 2]\n",
    "revenues = ecom[:, 5].astype(float)\n",
    "\n",
    " # Retriving transactions for top-5 bproducts by revenue\n",
    "top_transactions = top_5_products_by_revenue(ecom, product_ids, revenues)\n",
    "\n",
    "print('Transactions for top-5 bproducts by revenue:')\n",
    "print(top_transactions)"
   ]
  }
 ],
 "metadata": {
  "kernelspec": {
   "display_name": "Python 3 (ipykernel)",
   "language": "python",
   "name": "python3"
  },
  "language_info": {
   "codemirror_mode": {
    "name": "ipython",
    "version": 3
   },
   "file_extension": ".py",
   "mimetype": "text/x-python",
   "name": "python",
   "nbconvert_exporter": "python",
   "pygments_lexer": "ipython3",
   "version": "3.11.5"
  }
 },
 "nbformat": 4,
 "nbformat_minor": 5
}
