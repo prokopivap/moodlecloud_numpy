{
 "cells": [
  {
   "cell_type": "code",
   "execution_count": 657,
   "id": "14341bbc",
   "metadata": {},
   "outputs": [],
   "source": [
    "# 3 Array Manipulation with Separate Output Function in NumPy"
   ]
  },
  {
   "cell_type": "code",
   "execution_count": 1,
   "id": "d2d2250c",
   "metadata": {},
   "outputs": [],
   "source": [
    "import numpy as np\n",
    "array = np.random.randint(1, 10, size=(6, 6))"
   ]
  },
  {
   "cell_type": "code",
   "execution_count": 2,
   "id": "5d679dbe",
   "metadata": {},
   "outputs": [
    {
     "name": "stdout",
     "output_type": "stream",
     "text": [
      "[[1 4 2 8 5 3]\n",
      " [9 5 7 8 2 3]\n",
      " [9 1 2 4 4 6]\n",
      " [8 8 5 7 5 3]\n",
      " [8 1 8 8 3 2]\n",
      " [7 1 1 1 6 4]]\n"
     ]
    }
   ],
   "source": [
    " print(array)"
   ]
  },
  {
   "cell_type": "code",
   "execution_count": 3,
   "id": "7215c6b4",
   "metadata": {},
   "outputs": [],
   "source": [
    "def transpose_array(arr):\n",
    "    transpose_array = arr.transpose()\n",
    "    return transpose_array"
   ]
  },
  {
   "cell_type": "code",
   "execution_count": 4,
   "id": "8862e916",
   "metadata": {},
   "outputs": [
    {
     "data": {
      "text/plain": [
       "array([[1, 9, 9, 8, 8, 7],\n",
       "       [4, 5, 1, 8, 1, 1],\n",
       "       [2, 7, 2, 5, 8, 1],\n",
       "       [8, 8, 4, 7, 8, 1],\n",
       "       [5, 2, 4, 5, 3, 6],\n",
       "       [3, 3, 6, 3, 2, 4]])"
      ]
     },
     "execution_count": 4,
     "metadata": {},
     "output_type": "execute_result"
    }
   ],
   "source": [
    "transpose_array(array)"
   ]
  },
  {
   "cell_type": "code",
   "execution_count": 5,
   "id": "cf74bd00",
   "metadata": {},
   "outputs": [],
   "source": [
    "def reshape_array(arr):\n",
    "    reshape_array = arr.reshape(3, 12)\n",
    "    return reshape_array"
   ]
  },
  {
   "cell_type": "code",
   "execution_count": 6,
   "id": "76a75ec8",
   "metadata": {},
   "outputs": [
    {
     "data": {
      "text/plain": [
       "array([[1, 4, 2, 8, 5, 3, 9, 5, 7, 8, 2, 3],\n",
       "       [9, 1, 2, 4, 4, 6, 8, 8, 5, 7, 5, 3],\n",
       "       [8, 1, 8, 8, 3, 2, 7, 1, 1, 1, 6, 4]])"
      ]
     },
     "execution_count": 6,
     "metadata": {},
     "output_type": "execute_result"
    }
   ],
   "source": [
    "reshape_array(array)"
   ]
  },
  {
   "cell_type": "code",
   "execution_count": 7,
   "id": "64b1b331",
   "metadata": {},
   "outputs": [],
   "source": [
    "def split_array(arr):\n",
    "    splited_array = np.array_split(arr, 3, axis=0)\n",
    "    arr1 = splited_array[0]\n",
    "    arr2 = splited_array[1]\n",
    "    arr3 = splited_array[2]\n",
    "    return arr1, arr2, arr3\n",
    "#     print(splited_array[0])\n",
    "#     print(splited_array[1])\n",
    "#     print(splited_array[2])"
   ]
  },
  {
   "cell_type": "code",
   "execution_count": 8,
   "id": "eb3423b9",
   "metadata": {},
   "outputs": [
    {
     "data": {
      "text/plain": [
       "(array([[1, 4, 2, 8, 5, 3],\n",
       "        [9, 5, 7, 8, 2, 3]]),\n",
       " array([[9, 1, 2, 4, 4, 6],\n",
       "        [8, 8, 5, 7, 5, 3]]),\n",
       " array([[8, 1, 8, 8, 3, 2],\n",
       "        [7, 1, 1, 1, 6, 4]]))"
      ]
     },
     "execution_count": 8,
     "metadata": {},
     "output_type": "execute_result"
    }
   ],
   "source": [
    "split_array(array)"
   ]
  },
  {
   "cell_type": "code",
   "execution_count": null,
   "id": "56dd2f3c",
   "metadata": {},
   "outputs": [],
   "source": []
  },
  {
   "cell_type": "code",
   "execution_count": 9,
   "id": "b62cbd66",
   "metadata": {},
   "outputs": [],
   "source": [
    "def concatenate_arrays(arr):\n",
    "    #concatenated_array = np.concatenate((array[0], array[1], array[2]))\n",
    "    concatenated_array = np.vstack((array[0:]))\n",
    "    return concatenated_array"
   ]
  },
  {
   "cell_type": "code",
   "execution_count": 10,
   "id": "30cd95d9",
   "metadata": {},
   "outputs": [
    {
     "data": {
      "text/plain": [
       "array([[1, 4, 2, 8, 5, 3],\n",
       "       [9, 5, 7, 8, 2, 3],\n",
       "       [9, 1, 2, 4, 4, 6],\n",
       "       [8, 8, 5, 7, 5, 3],\n",
       "       [8, 1, 8, 8, 3, 2],\n",
       "       [7, 1, 1, 1, 6, 4]])"
      ]
     },
     "execution_count": 10,
     "metadata": {},
     "output_type": "execute_result"
    }
   ],
   "source": [
    "concatenate_arrays(split_array(array))"
   ]
  },
  {
   "cell_type": "code",
   "execution_count": null,
   "id": "3083bd04",
   "metadata": {},
   "outputs": [],
   "source": [
    "############"
   ]
  },
  {
   "cell_type": "code",
   "execution_count": 11,
   "id": "339fcee3",
   "metadata": {},
   "outputs": [],
   "source": [
    "def print_array(array, message = None):\n",
    "    if message:\n",
    "        print(message)\n",
    "        print('')\n",
    "    print(array)"
   ]
  },
  {
   "cell_type": "code",
   "execution_count": 12,
   "id": "59725e40",
   "metadata": {},
   "outputs": [
    {
     "name": "stdout",
     "output_type": "stream",
     "text": [
      "Transpose Function\n",
      "\n",
      "[[1 9 9 8 8 7]\n",
      " [4 5 1 8 1 1]\n",
      " [2 7 2 5 8 1]\n",
      " [8 8 4 7 8 1]\n",
      " [5 2 4 5 3 6]\n",
      " [3 3 6 3 2 4]]\n"
     ]
    }
   ],
   "source": [
    "print_array(transpose_array(array), 'Transpose Function')"
   ]
  },
  {
   "cell_type": "code",
   "execution_count": 13,
   "id": "03ca39f8",
   "metadata": {},
   "outputs": [
    {
     "name": "stdout",
     "output_type": "stream",
     "text": [
      "Reshape Function\n",
      "\n",
      "[[1 4 2 8 5 3 9 5 7 8 2 3]\n",
      " [9 1 2 4 4 6 8 8 5 7 5 3]\n",
      " [8 1 8 8 3 2 7 1 1 1 6 4]]\n"
     ]
    }
   ],
   "source": [
    "print_array(reshape_array(array), 'Reshape Function')"
   ]
  },
  {
   "cell_type": "code",
   "execution_count": 14,
   "id": "9b263e43",
   "metadata": {},
   "outputs": [
    {
     "name": "stdout",
     "output_type": "stream",
     "text": [
      "Split Function\n",
      "\n",
      "(array([[1, 4, 2, 8, 5, 3],\n",
      "       [9, 5, 7, 8, 2, 3]]), array([[9, 1, 2, 4, 4, 6],\n",
      "       [8, 8, 5, 7, 5, 3]]), array([[8, 1, 8, 8, 3, 2],\n",
      "       [7, 1, 1, 1, 6, 4]]))\n"
     ]
    }
   ],
   "source": [
    "print_array(split_array(array), 'Split Function')"
   ]
  },
  {
   "cell_type": "code",
   "execution_count": 15,
   "id": "ed3ab85f",
   "metadata": {},
   "outputs": [
    {
     "name": "stdout",
     "output_type": "stream",
     "text": [
      "Concatenation arrays function\n",
      "\n",
      "[[1 4 2 8 5 3]\n",
      " [9 5 7 8 2 3]\n",
      " [9 1 2 4 4 6]\n",
      " [8 8 5 7 5 3]\n",
      " [8 1 8 8 3 2]\n",
      " [7 1 1 1 6 4]]\n"
     ]
    }
   ],
   "source": [
    "print_array(concatenate_arrays(split_array(array)), 'Concatenation arrays function')"
   ]
  },
  {
   "cell_type": "code",
   "execution_count": null,
   "id": "888ea6cb",
   "metadata": {},
   "outputs": [],
   "source": []
  }
 ],
 "metadata": {
  "kernelspec": {
   "display_name": "Python 3 (ipykernel)",
   "language": "python",
   "name": "python3"
  },
  "language_info": {
   "codemirror_mode": {
    "name": "ipython",
    "version": 3
   },
   "file_extension": ".py",
   "mimetype": "text/x-python",
   "name": "python",
   "nbconvert_exporter": "python",
   "pygments_lexer": "ipython3",
   "version": "3.11.5"
  }
 },
 "nbformat": 4,
 "nbformat_minor": 5
}
