{
 "cells": [
  {
   "cell_type": "code",
   "execution_count": null,
   "id": "c83d3fa6",
   "metadata": {},
   "outputs": [],
   "source": [
    "#Practical Task 4: Comprehensive Data Handling and Analysis with NumPy"
   ]
  },
  {
   "cell_type": "code",
   "execution_count": 1,
   "id": "0cb7572e",
   "metadata": {},
   "outputs": [],
   "source": [
    "import numpy as np\n",
    "array = np.random.randint(1, 10, size=(10, 10))"
   ]
  },
  {
   "cell_type": "code",
   "execution_count": 2,
   "id": "5378c789",
   "metadata": {},
   "outputs": [
    {
     "name": "stdout",
     "output_type": "stream",
     "text": [
      "[[7 4 3 2 9 4 8 9 4 9]\n",
      " [6 6 1 3 4 3 5 9 4 4]\n",
      " [1 8 4 9 3 9 7 5 9 1]\n",
      " [6 4 3 3 9 6 9 4 6 9]\n",
      " [7 7 6 1 6 2 9 4 6 6]\n",
      " [9 4 1 8 3 5 3 6 4 2]\n",
      " [6 9 8 5 2 8 4 5 9 9]\n",
      " [3 8 6 2 8 2 4 2 6 9]\n",
      " [5 6 7 3 3 6 7 3 9 4]\n",
      " [4 9 4 6 4 1 1 9 5 8]]\n"
     ]
    }
   ],
   "source": [
    "print(array)"
   ]
  },
  {
   "cell_type": "code",
   "execution_count": 3,
   "id": "8cb221d7",
   "metadata": {},
   "outputs": [],
   "source": [
    "def save_in_diff_formats(arr):\n",
    "    np.savetxt(\"mtrx10x10.csv\", arr, delimiter=\",\")\n",
    "    \n",
    "    np.save('mtrx10x10', arr)"
   ]
  },
  {
   "cell_type": "code",
   "execution_count": 4,
   "id": "29908687",
   "metadata": {},
   "outputs": [],
   "source": [
    "save_in_diff_formats(array)"
   ]
  },
  {
   "cell_type": "code",
   "execution_count": 5,
   "id": "39f3d2d5",
   "metadata": {},
   "outputs": [],
   "source": [
    "def load_from_files():\n",
    "\n",
    "    array_csv = np.loadtxt(\"mtrx10x10.csv\", delimiter=\",\", dtype=int)\n",
    "    print('From .CSV file:')\n",
    "    print(array_csv)\n",
    "\n",
    "    array_npy = np.load('mtrx10x10.npy') \n",
    "    print('From .NPY file:')\n",
    "    print (array_npy)\n",
    "#     file = open(\"mtrx10x10.csv\")\n",
    "#     for line in file:\n",
    "#         print(line)\n"
   ]
  },
  {
   "cell_type": "code",
   "execution_count": 763,
   "id": "dfeb3f99",
   "metadata": {},
   "outputs": [
    {
     "name": "stdout",
     "output_type": "stream",
     "text": [
      "From .CSV file:\n",
      "[[5 1 5 9 4 4 7 2 8 3]\n",
      " [8 2 3 3 4 8 8 9 8 6]\n",
      " [9 6 1 8 9 5 9 1 1 3]\n",
      " [2 7 3 1 9 2 2 8 8 1]\n",
      " [3 6 3 6 2 5 5 3 1 9]\n",
      " [6 2 1 9 4 8 1 1 2 5]\n",
      " [8 1 7 2 1 6 9 7 7 4]\n",
      " [5 4 7 4 8 9 2 4 3 4]\n",
      " [8 4 6 9 3 7 9 7 6 9]\n",
      " [7 7 8 5 3 5 3 9 2 3]]\n",
      "From .NPY file:\n",
      "[[5 1 5 9 4 4 7 2 8 3]\n",
      " [8 2 3 3 4 8 8 9 8 6]\n",
      " [9 6 1 8 9 5 9 1 1 3]\n",
      " [2 7 3 1 9 2 2 8 8 1]\n",
      " [3 6 3 6 2 5 5 3 1 9]\n",
      " [6 2 1 9 4 8 1 1 2 5]\n",
      " [8 1 7 2 1 6 9 7 7 4]\n",
      " [5 4 7 4 8 9 2 4 3 4]\n",
      " [8 4 6 9 3 7 9 7 6 9]\n",
      " [7 7 8 5 3 5 3 9 2 3]]\n"
     ]
    },
    {
     "name": "stderr",
     "output_type": "stream",
     "text": [
      "/var/folders/hl/0yvjm13s1hzc40r3hv5cw51r0000gn/T/ipykernel_10769/1185432374.py:3: DeprecationWarning: loadtxt(): Parsing an integer via a float is deprecated.  To avoid this warning, you can:\n",
      "    * make sure the original data is stored as integers.\n",
      "    * use the `converters=` keyword argument.  If you only use\n",
      "      NumPy 1.23 or later, `converters=float` will normally work.\n",
      "    * Use `np.loadtxt(...).astype(np.int64)` parsing the file as\n",
      "      floating point and then convert it.  (On all NumPy versions.)\n",
      "  (Deprecated NumPy 1.23)\n",
      "  array_csv = np.loadtxt(\"mtrx10x10.csv\", delimiter=\",\", dtype=int)\n"
     ]
    }
   ],
   "source": [
    "load_from_files()"
   ]
  },
  {
   "cell_type": "code",
   "execution_count": 6,
   "id": "ba214544",
   "metadata": {},
   "outputs": [],
   "source": [
    "def sum_array(arr):\n",
    "    v = np.sum(arr, axis=0)\n",
    "    h = np.sum(arr, axis=1)\n",
    "    all = arr.sum()\n",
    "    return all, v, h"
   ]
  },
  {
   "cell_type": "code",
   "execution_count": 7,
   "id": "16e35a2d",
   "metadata": {},
   "outputs": [
    {
     "data": {
      "text/plain": [
       "(537,\n",
       " array([54, 65, 43, 42, 51, 46, 57, 56, 62, 61]),\n",
       " array([59, 45, 56, 59, 54, 45, 65, 50, 53, 51]))"
      ]
     },
     "execution_count": 7,
     "metadata": {},
     "output_type": "execute_result"
    }
   ],
   "source": [
    "sum_array(array)"
   ]
  },
  {
   "cell_type": "code",
   "execution_count": 8,
   "id": "2350bf38",
   "metadata": {},
   "outputs": [],
   "source": [
    "def mean_array(arr):\n",
    "    v = np.mean(arr, axis = 0)\n",
    "    h = np.mean(arr, axis = 1)\n",
    "    all = arr.mean()\n",
    "    return all, v, h"
   ]
  },
  {
   "cell_type": "code",
   "execution_count": 9,
   "id": "b033bdc1",
   "metadata": {},
   "outputs": [
    {
     "data": {
      "text/plain": [
       "(5.37,\n",
       " array([5.4, 6.5, 4.3, 4.2, 5.1, 4.6, 5.7, 5.6, 6.2, 6.1]),\n",
       " array([5.9, 4.5, 5.6, 5.9, 5.4, 4.5, 6.5, 5. , 5.3, 5.1]))"
      ]
     },
     "execution_count": 9,
     "metadata": {},
     "output_type": "execute_result"
    }
   ],
   "source": [
    "mean_array(array)"
   ]
  },
  {
   "cell_type": "code",
   "execution_count": 10,
   "id": "711c91b4",
   "metadata": {},
   "outputs": [],
   "source": [
    "def median_array(arr):\n",
    "    v = np.median(arr, axis = 0)\n",
    "    h = np.median(arr, axis = 1)\n",
    "    all = np.median(arr)\n",
    "    return all, v, h"
   ]
  },
  {
   "cell_type": "code",
   "execution_count": 11,
   "id": "32d8609f",
   "metadata": {},
   "outputs": [
    {
     "data": {
      "text/plain": [
       "(5.0,\n",
       " array([6. , 6.5, 4. , 3. , 4. , 4.5, 6. , 5. , 6. , 7. ]),\n",
       " array([5.5, 4. , 6. , 6. , 6. , 4. , 7. , 5. , 5.5, 4.5]))"
      ]
     },
     "execution_count": 11,
     "metadata": {},
     "output_type": "execute_result"
    }
   ],
   "source": [
    "median_array(array)"
   ]
  },
  {
   "cell_type": "code",
   "execution_count": 12,
   "id": "f008a055",
   "metadata": {},
   "outputs": [],
   "source": [
    "def std_array(arr):\n",
    "    v = np.median(arr, axis=0)\n",
    "    h = np.median(arr, axis=1)\n",
    "    all = np.std(arr)\n",
    "    return all, v, h"
   ]
  },
  {
   "cell_type": "code",
   "execution_count": 13,
   "id": "b56cd1f5",
   "metadata": {},
   "outputs": [
    {
     "data": {
      "text/plain": [
       "(2.536355653294703,\n",
       " array([6. , 6.5, 4. , 3. , 4. , 4.5, 6. , 5. , 6. , 7. ]),\n",
       " array([5.5, 4. , 6. , 6. , 6. , 4. , 7. , 5. , 5.5, 4.5]))"
      ]
     },
     "execution_count": 13,
     "metadata": {},
     "output_type": "execute_result"
    }
   ],
   "source": [
    "std_array(array)"
   ]
  },
  {
   "cell_type": "code",
   "execution_count": 14,
   "id": "339fcee3",
   "metadata": {},
   "outputs": [],
   "source": [
    "def print_array(array, message = None):\n",
    "    if message:\n",
    "        print(message)\n",
    "        print('')\n",
    "    print(array)"
   ]
  },
  {
   "cell_type": "code",
   "execution_count": 15,
   "id": "0ce058ea",
   "metadata": {},
   "outputs": [
    {
     "name": "stdout",
     "output_type": "stream",
     "text": [
      "Save in different formats (.csv, .npy)\n",
      "\n",
      "None\n"
     ]
    }
   ],
   "source": [
    "print_array(save_in_diff_formats(array), 'Save in different formats (.csv, .npy)')"
   ]
  },
  {
   "cell_type": "code",
   "execution_count": 16,
   "id": "24d5e665",
   "metadata": {},
   "outputs": [
    {
     "name": "stdout",
     "output_type": "stream",
     "text": [
      "From .CSV file:\n",
      "[[7 4 3 2 9 4 8 9 4 9]\n",
      " [6 6 1 3 4 3 5 9 4 4]\n",
      " [1 8 4 9 3 9 7 5 9 1]\n",
      " [6 4 3 3 9 6 9 4 6 9]\n",
      " [7 7 6 1 6 2 9 4 6 6]\n",
      " [9 4 1 8 3 5 3 6 4 2]\n",
      " [6 9 8 5 2 8 4 5 9 9]\n",
      " [3 8 6 2 8 2 4 2 6 9]\n",
      " [5 6 7 3 3 6 7 3 9 4]\n",
      " [4 9 4 6 4 1 1 9 5 8]]\n",
      "From .NPY file:\n",
      "[[7 4 3 2 9 4 8 9 4 9]\n",
      " [6 6 1 3 4 3 5 9 4 4]\n",
      " [1 8 4 9 3 9 7 5 9 1]\n",
      " [6 4 3 3 9 6 9 4 6 9]\n",
      " [7 7 6 1 6 2 9 4 6 6]\n",
      " [9 4 1 8 3 5 3 6 4 2]\n",
      " [6 9 8 5 2 8 4 5 9 9]\n",
      " [3 8 6 2 8 2 4 2 6 9]\n",
      " [5 6 7 3 3 6 7 3 9 4]\n",
      " [4 9 4 6 4 1 1 9 5 8]]\n",
      "load from files in different formats (.csv, .npy)\n",
      "\n",
      "None\n"
     ]
    },
    {
     "name": "stderr",
     "output_type": "stream",
     "text": [
      "/var/folders/hl/0yvjm13s1hzc40r3hv5cw51r0000gn/T/ipykernel_22809/1185432374.py:3: DeprecationWarning: loadtxt(): Parsing an integer via a float is deprecated.  To avoid this warning, you can:\n",
      "    * make sure the original data is stored as integers.\n",
      "    * use the `converters=` keyword argument.  If you only use\n",
      "      NumPy 1.23 or later, `converters=float` will normally work.\n",
      "    * Use `np.loadtxt(...).astype(np.int64)` parsing the file as\n",
      "      floating point and then convert it.  (On all NumPy versions.)\n",
      "  (Deprecated NumPy 1.23)\n",
      "  array_csv = np.loadtxt(\"mtrx10x10.csv\", delimiter=\",\", dtype=int)\n"
     ]
    }
   ],
   "source": [
    "print_array(load_from_files(), 'load from files in different formats (.csv, .npy)')"
   ]
  },
  {
   "cell_type": "code",
   "execution_count": 17,
   "id": "21dfb911",
   "metadata": {},
   "outputs": [
    {
     "name": "stdout",
     "output_type": "stream",
     "text": [
      "Summarize elements of array\n",
      "\n",
      "(537, array([54, 65, 43, 42, 51, 46, 57, 56, 62, 61]), array([59, 45, 56, 59, 54, 45, 65, 50, 53, 51]))\n"
     ]
    }
   ],
   "source": [
    "print_array(sum_array(array), 'Summarize elements of array')"
   ]
  },
  {
   "cell_type": "code",
   "execution_count": 18,
   "id": "58662aab",
   "metadata": {},
   "outputs": [
    {
     "name": "stdout",
     "output_type": "stream",
     "text": [
      "Mean values of array\n",
      "\n",
      "(5.37, array([5.4, 6.5, 4.3, 4.2, 5.1, 4.6, 5.7, 5.6, 6.2, 6.1]), array([5.9, 4.5, 5.6, 5.9, 5.4, 4.5, 6.5, 5. , 5.3, 5.1]))\n"
     ]
    }
   ],
   "source": [
    "print_array(mean_array(array), 'Mean values of array')"
   ]
  },
  {
   "cell_type": "code",
   "execution_count": 20,
   "id": "507762ed",
   "metadata": {},
   "outputs": [
    {
     "name": "stdout",
     "output_type": "stream",
     "text": [
      "Median values of array\n",
      "\n",
      "(5.0, array([6. , 6.5, 4. , 3. , 4. , 4.5, 6. , 5. , 6. , 7. ]), array([5.5, 4. , 6. , 6. , 6. , 4. , 7. , 5. , 5.5, 4.5]))\n"
     ]
    }
   ],
   "source": [
    "print_array(median_array(array), 'Median values of array')"
   ]
  },
  {
   "cell_type": "code",
   "execution_count": 21,
   "id": "072f76ea",
   "metadata": {},
   "outputs": [
    {
     "name": "stdout",
     "output_type": "stream",
     "text": [
      "Standart deviation of array\n",
      "\n",
      "(2.536355653294703, array([6. , 6.5, 4. , 3. , 4. , 4.5, 6. , 5. , 6. , 7. ]), array([5.5, 4. , 6. , 6. , 6. , 4. , 7. , 5. , 5.5, 4.5]))\n"
     ]
    }
   ],
   "source": [
    "print_array(std_array(array), 'Standart deviation of array')"
   ]
  }
 ],
 "metadata": {
  "kernelspec": {
   "display_name": "Python 3 (ipykernel)",
   "language": "python",
   "name": "python3"
  },
  "language_info": {
   "codemirror_mode": {
    "name": "ipython",
    "version": 3
   },
   "file_extension": ".py",
   "mimetype": "text/x-python",
   "name": "python",
   "nbconvert_exporter": "python",
   "pygments_lexer": "ipython3",
   "version": "3.11.5"
  }
 },
 "nbformat": 4,
 "nbformat_minor": 5
}
