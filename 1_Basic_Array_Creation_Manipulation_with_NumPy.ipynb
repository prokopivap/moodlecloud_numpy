{
 "cells": [
  {
   "cell_type": "code",
   "execution_count": 7,
   "id": "8e8adbd9",
   "metadata": {},
   "outputs": [],
   "source": [
    "import numpy as np"
   ]
  },
  {
   "cell_type": "code",
   "execution_count": 15,
   "id": "2fac2bdc",
   "metadata": {},
   "outputs": [
    {
     "name": "stdout",
     "output_type": "stream",
     "text": [
      "[ 1  2  3  4  5  6  7  8  9 10]\n"
     ]
    }
   ],
   "source": [
    "#1. Array Creation:\n",
    "arr_1d = np.array([ 1,  2,  3,  4,  5,  6,  7,  8,  9, 10])\n",
    "print(arr_1d)"
   ]
  },
  {
   "cell_type": "code",
   "execution_count": 17,
   "id": "83e3aebf",
   "metadata": {},
   "outputs": [
    {
     "name": "stdout",
     "output_type": "stream",
     "text": [
      "[[1 2 3]\n",
      " [4 5 6]\n",
      " [7 8 9]]\n"
     ]
    }
   ],
   "source": [
    "arr_2d = np.array([[1,2,3], [4,5,6], [7,8,9]])\n",
    "print(arr_2d)"
   ]
  },
  {
   "cell_type": "code",
   "execution_count": 20,
   "id": "7935e4f6",
   "metadata": {},
   "outputs": [
    {
     "name": "stdout",
     "output_type": "stream",
     "text": [
      "3\n"
     ]
    }
   ],
   "source": [
    "#2. Basic Operations:   Indexing and Slicing:\n",
    "x = arr_1d[2]\n",
    "print(x)"
   ]
  },
  {
   "cell_type": "code",
   "execution_count": 32,
   "id": "3c349f4f",
   "metadata": {},
   "outputs": [
    {
     "name": "stdout",
     "output_type": "stream",
     "text": [
      "[[1 2 3]\n",
      " [4 5 6]]\n",
      "[[1 2]\n",
      " [4 5]]\n"
     ]
    }
   ],
   "source": [
    "x = arr_2d[(0,1),:]\n",
    "print(x)\n",
    "#OR (not clear question)\n",
    "y = arr_2d[:2, :2]\n",
    "print(y)"
   ]
  },
  {
   "cell_type": "code",
   "execution_count": 33,
   "id": "83d581b9",
   "metadata": {},
   "outputs": [
    {
     "name": "stdout",
     "output_type": "stream",
     "text": [
      "[ 6  7  8  9 10 11 12 13 14 15]\n"
     ]
    }
   ],
   "source": [
    "#2. Basic Operations:  Basic Arithmetic:\n",
    "add_5_arr_1d = arr_1d + 5\n",
    "print(add_5_arr_1d)"
   ]
  },
  {
   "cell_type": "code",
   "execution_count": 34,
   "id": "58993ed0",
   "metadata": {},
   "outputs": [
    {
     "name": "stdout",
     "output_type": "stream",
     "text": [
      "[[ 2  4  6]\n",
      " [ 8 10 12]\n",
      " [14 16 18]]\n"
     ]
    }
   ],
   "source": [
    "multp_2_arr_2d = arr_2d * 2\n",
    "print(multp_2_arr_2d)"
   ]
  },
  {
   "cell_type": "code",
   "execution_count": 40,
   "id": "ed3afd0a",
   "metadata": {},
   "outputs": [
    {
     "name": "stdout",
     "output_type": "stream",
     "text": [
      "Below is a resulting array:\n",
      "[[1 2 3 4]\n",
      " [5 6 7 8]]\n"
     ]
    }
   ],
   "source": [
    "# 3. Output Function:\n",
    "\n",
    "# Do not know if I clearly understand the task\n",
    "arr = np.array([1, 2, 3, 4, 5, 6, 7, 8])\n",
    "arr2 = np.array([[1, 2, 3, 4], [5, 6, 7, 8]])\n",
    "\n",
    "def print_array(array, message = None):\n",
    "    if message:\n",
    "        print(message)\n",
    "    print(array)\n",
    "\n",
    "print_array(arr2, \"Below is a resulting array:\")\n"
   ]
  },
  {
   "cell_type": "code",
   "execution_count": null,
   "id": "60b89c61",
   "metadata": {},
   "outputs": [],
   "source": [
    "# 4. Manipulation Workflow:"
   ]
  },
  {
   "cell_type": "code",
   "execution_count": 41,
   "id": "0c5c1baf",
   "metadata": {},
   "outputs": [
    {
     "name": "stdout",
     "output_type": "stream",
     "text": [
      "Below is a resulting array:\n",
      "[ 1  2  3  4  5  6  7  8  9 10]\n"
     ]
    }
   ],
   "source": [
    "arr_1d = np.array([ 1,  2,  3,  4,  5,  6,  7,  8,  9, 10])\n",
    "print_array(arr_1d, \"Below is a resulting array:\")"
   ]
  },
  {
   "cell_type": "code",
   "execution_count": 42,
   "id": "5db14dda",
   "metadata": {},
   "outputs": [
    {
     "name": "stdout",
     "output_type": "stream",
     "text": [
      "Below is a resulting array:\n",
      "[[1 2 3]\n",
      " [4 5 6]\n",
      " [7 8 9]]\n"
     ]
    }
   ],
   "source": [
    "arr_2d = np.array([[1,2,3], [4,5,6], [7,8,9]])\n",
    "print_array(arr_2d, \"Below is a resulting array:\")"
   ]
  },
  {
   "cell_type": "code",
   "execution_count": 43,
   "id": "7e3f39ce",
   "metadata": {},
   "outputs": [
    {
     "name": "stdout",
     "output_type": "stream",
     "text": [
      "Below is a resulting array:\n",
      "3\n"
     ]
    }
   ],
   "source": [
    "x = arr_1d[2]\n",
    "print_array(x, \"Below is a resulting array:\")"
   ]
  },
  {
   "cell_type": "code",
   "execution_count": 44,
   "id": "c87bf747",
   "metadata": {},
   "outputs": [
    {
     "name": "stdout",
     "output_type": "stream",
     "text": [
      "Below is a resulting array:\n",
      "[[1 2]\n",
      " [4 5]]\n"
     ]
    }
   ],
   "source": [
    "y = arr_2d[:2, :2]\n",
    "print_array(y, \"Below is a resulting array:\")"
   ]
  },
  {
   "cell_type": "code",
   "execution_count": 45,
   "id": "7a69c880",
   "metadata": {},
   "outputs": [
    {
     "name": "stdout",
     "output_type": "stream",
     "text": [
      "Below is a resulting array:\n",
      "[ 6  7  8  9 10 11 12 13 14 15]\n"
     ]
    }
   ],
   "source": [
    "add_5_arr_1d = arr_1d + 5\n",
    "print_array(add_5_arr_1d, \"Below is a resulting array:\")"
   ]
  },
  {
   "cell_type": "code",
   "execution_count": 46,
   "id": "70b59a69",
   "metadata": {},
   "outputs": [
    {
     "name": "stdout",
     "output_type": "stream",
     "text": [
      "Below is a resulting array:\n",
      "[[ 2  4  6]\n",
      " [ 8 10 12]\n",
      " [14 16 18]]\n"
     ]
    }
   ],
   "source": [
    "multp_2_arr_2d = arr_2d * 2\n",
    "print_array(multp_2_arr_2d, \"Below is a resulting array:\")"
   ]
  },
  {
   "cell_type": "code",
   "execution_count": null,
   "id": "5b6b8ac7",
   "metadata": {},
   "outputs": [],
   "source": []
  }
 ],
 "metadata": {
  "kernelspec": {
   "display_name": "Python 3 (ipykernel)",
   "language": "python",
   "name": "python3"
  },
  "language_info": {
   "codemirror_mode": {
    "name": "ipython",
    "version": 3
   },
   "file_extension": ".py",
   "mimetype": "text/x-python",
   "name": "python",
   "nbconvert_exporter": "python",
   "pygments_lexer": "ipython3",
   "version": "3.11.5"
  }
 },
 "nbformat": 4,
 "nbformat_minor": 5
}
