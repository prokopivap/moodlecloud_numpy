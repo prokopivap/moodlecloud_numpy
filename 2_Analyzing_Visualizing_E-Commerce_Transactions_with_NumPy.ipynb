{
 "cells": [
  {
   "cell_type": "code",
   "execution_count": 2,
   "id": "7d4b349f",
   "metadata": {},
   "outputs": [],
   "source": [
    "import numpy as np"
   ]
  },
  {
   "cell_type": "code",
   "execution_count": 115,
   "id": "06fd426f",
   "metadata": {},
   "outputs": [],
   "source": [
    "transaction_id = np.arange(1, 31)\n",
    "user_id = np.random.randint(100, 200, size=(30, 1))\n",
    "#product_id = np.random.randint(20000, 30000, size=(30, 1))\n",
    "product_id = np.random.randint(20000, 20010, size=(30, 1))\n",
    "quantity = np.random.randint(1, 10, size=(30, 1))\n",
    "price = np.random.uniform(1,20, (30,1)).round(2)\n",
    "\n",
    "#start_date = np.datetime64('2024-06-01')\n",
    "#end_date = np.datetime64('2024-12-10')\n",
    "#timestamp = np.arange(start_date, end_date, 3, dtype='datetime64[D]')\n",
    "\n",
    "start_date = 20240801\n",
    "end_date = 20240810\n",
    "timestamp = np.random.randint(start_date, end_date, size=(30, 1))\n"
   ]
  },
  {
   "cell_type": "code",
   "execution_count": 116,
   "id": "fab29423",
   "metadata": {},
   "outputs": [],
   "source": [
    "multidim = np.column_stack((transaction_id, user_id, product_id, quantity, timestamp, price))\n",
    "ecom = multidim.astype(object)"
   ]
  },
  {
   "cell_type": "code",
   "execution_count": 89,
   "id": "257eca44",
   "metadata": {},
   "outputs": [
    {
     "name": "stdout",
     "output_type": "stream",
     "text": [
      "[[1.0 185.0 20004.0 4.0 20240803.0 3.46]\n",
      " [2.0 104.0 20005.0 9.0 20240808.0 19.58]\n",
      " [3.0 160.0 20007.0 5.0 20240806.0 19.16]\n",
      " [4.0 117.0 20008.0 7.0 20240806.0 8.8]\n",
      " [5.0 181.0 20006.0 4.0 20240807.0 18.45]\n",
      " [6.0 198.0 20004.0 8.0 20240808.0 2.55]\n",
      " [7.0 154.0 20001.0 1.0 20240808.0 17.52]\n",
      " [8.0 172.0 20001.0 3.0 20240808.0 10.35]\n",
      " [9.0 161.0 20007.0 1.0 20240804.0 5.21]\n",
      " [10.0 173.0 20005.0 6.0 20240806.0 9.45]\n",
      " [11.0 176.0 20000.0 6.0 20240808.0 2.48]\n",
      " [12.0 102.0 20004.0 4.0 20240805.0 9.69]\n",
      " [13.0 175.0 20000.0 3.0 20240807.0 16.44]\n",
      " [14.0 111.0 20003.0 2.0 20240808.0 9.63]\n",
      " [15.0 169.0 20000.0 8.0 20240805.0 1.56]\n",
      " [16.0 159.0 20002.0 3.0 20240801.0 1.51]\n",
      " [17.0 186.0 20004.0 8.0 20240803.0 6.87]\n",
      " [18.0 139.0 20002.0 9.0 20240808.0 12.25]\n",
      " [19.0 184.0 20002.0 4.0 20240804.0 3.07]\n",
      " [20.0 119.0 20004.0 5.0 20240808.0 11.08]\n",
      " [21.0 173.0 20003.0 5.0 20240805.0 11.14]\n",
      " [22.0 121.0 20006.0 4.0 20240807.0 14.46]\n",
      " [23.0 124.0 20009.0 9.0 20240806.0 18.57]\n",
      " [24.0 194.0 20004.0 7.0 20240805.0 13.08]\n",
      " [25.0 173.0 20007.0 1.0 20240807.0 13.25]\n",
      " [26.0 137.0 20007.0 4.0 20240807.0 6.84]\n",
      " [27.0 146.0 20005.0 9.0 20240804.0 4.86]\n",
      " [28.0 164.0 20007.0 5.0 20240805.0 18.15]\n",
      " [29.0 158.0 20005.0 4.0 20240802.0 6.92]\n",
      " [30.0 145.0 20000.0 5.0 20240809.0 4.72]]\n"
     ]
    }
   ],
   "source": [
    "print(ecom)"
   ]
  },
  {
   "cell_type": "code",
   "execution_count": 126,
   "id": "936e6a78",
   "metadata": {},
   "outputs": [
    {
     "name": "stdout",
     "output_type": "stream",
     "text": [
      "[[1 192 20007 3 20240807 3.25]\n",
      " [2 148 20007 9 20240804 7.26]\n",
      " [3 137 20008 4 20240809 3.37]\n",
      " [4 154 20005 1 20240807 19.82]\n",
      " [5 103 20004 1 20240806 13.84]\n",
      " [6 187 20003 7 20240807 17.1]\n",
      " [7 156 20000 4 20240801 15.61]\n",
      " [8 183 20003 9 20240806 13.64]\n",
      " [9 174 20008 3 20240807 15.0]\n",
      " [10 159 20007 5 20240805 9.27]\n",
      " [11 120 20000 7 20240801 16.91]\n",
      " [12 168 20003 3 20240803 1.81]\n",
      " [13 137 20003 6 20240802 10.84]\n",
      " [14 118 20008 7 20240805 16.54]\n",
      " [15 144 20003 7 20240803 17.66]\n",
      " [16 169 20006 9 20240803 19.44]\n",
      " [17 176 20005 4 20240808 13.59]\n",
      " [18 130 20009 1 20240801 18.22]\n",
      " [19 123 20007 3 20240802 2.68]\n",
      " [20 116 20001 6 20240807 7.53]\n",
      " [21 174 20008 8 20240803 16.34]\n",
      " [22 179 20007 5 20240807 14.36]\n",
      " [23 105 20009 8 20240808 8.36]\n",
      " [24 174 20004 8 20240806 14.08]\n",
      " [25 174 20005 4 20240807 4.76]\n",
      " [26 127 20003 6 20240804 4.49]\n",
      " [27 154 20005 2 20240803 2.66]\n",
      " [28 102 20006 3 20240805 4.53]\n",
      " [29 105 20003 1 20240808 11.57]\n",
      " [30 147 20007 4 20240807 18.5]]\n"
     ]
    }
   ],
   "source": [
    "ecom[0:30,0:5] = ecom[0:30,0:5].astype(int)\n",
    "print(ecom)\n",
    "#a[:,0] = a[:,0].astype(int)"
   ]
  },
  {
   "cell_type": "code",
   "execution_count": 56,
   "id": "ae095406",
   "metadata": {},
   "outputs": [],
   "source": [
    "# w = np.zeros([30,6]).astype(int)\n",
    "# w[0:30, 0] = transaction_id\n",
    "\n",
    "# w[0:30, 4] = price\n",
    "# print(w)"
   ]
  },
  {
   "cell_type": "code",
   "execution_count": 57,
   "id": "1e583f3a",
   "metadata": {},
   "outputs": [],
   "source": [
    "def revenue(arr):\n",
    "    rev = 0\n",
    "    for val in arr:\n",
    "        sum = 0\n",
    "        sum = val[3] * val[5]\n",
    "        #print (sum)\n",
    "        rev = rev + sum\n",
    "    return(round(rev, 2))"
   ]
  },
  {
   "cell_type": "code",
   "execution_count": 58,
   "id": "efff1436",
   "metadata": {},
   "outputs": [
    {
     "data": {
      "text/plain": [
       "1688.36"
      ]
     },
     "execution_count": 58,
     "metadata": {},
     "output_type": "execute_result"
    }
   ],
   "source": [
    "revenue(ecom)"
   ]
  },
  {
   "cell_type": "code",
   "execution_count": 101,
   "id": "f6616cc8",
   "metadata": {},
   "outputs": [],
   "source": [
    "def unq_users(arr):\n",
    "    users = []\n",
    "    for user in arr:\n",
    "        if user[1] not in users:\n",
    "            users.append(user[1])\n",
    "    unq_users = len(users)\n",
    "    return(unq_users)"
   ]
  },
  {
   "cell_type": "code",
   "execution_count": 108,
   "id": "16ff67d6",
   "metadata": {},
   "outputs": [
    {
     "data": {
      "text/plain": [
       "25"
      ]
     },
     "execution_count": 108,
     "metadata": {},
     "output_type": "execute_result"
    }
   ],
   "source": [
    "unq_users(ecom)"
   ]
  },
  {
   "cell_type": "code",
   "execution_count": 127,
   "id": "e5bba419",
   "metadata": {},
   "outputs": [],
   "source": [
    "def most_purchased(arr):\n",
    "    mp_d = {}\n",
    "  \n",
    "    for items in arr:\n",
    "        #print (str(items[2]) + ' -> ' + str(items[3]))\n",
    "\n",
    "        if items[2] in mp_d:\n",
    "            mp_d[items[2]] = mp_d.get(items[2], 0) + items[3]\n",
    "        else:\n",
    "            mp_d[items[2]] = items[3]\n",
    "\n",
    "    print('All product ids with their amount of total purchases')\n",
    "    print (mp_d)\n",
    "    \n",
    "    most_purchased_product_id = ''\n",
    "    qty = 0\n",
    "    for key, value in mp_d.items():\n",
    "        if value > qty:\n",
    "            qty += value\n",
    "            most_purchased_product_id = key \n",
    "    \n",
    "    print('')\n",
    "    print ('Most purchased product_id:') \n",
    "    print (most_purchased_product_id)"
   ]
  },
  {
   "cell_type": "code",
   "execution_count": 128,
   "id": "52fa32af",
   "metadata": {},
   "outputs": [
    {
     "name": "stdout",
     "output_type": "stream",
     "text": [
      "All product ids with their amount of total purchases\n",
      "{20007: 29, 20008: 22, 20005: 11, 20004: 9, 20003: 39, 20000: 11, 20006: 12, 20009: 9, 20001: 6}\n",
      "\n",
      "Most purchased product_id:\n",
      "20003\n"
     ]
    }
   ],
   "source": [
    "most_purchased(ecom)"
   ]
  },
  {
   "cell_type": "code",
   "execution_count": 63,
   "id": "79705cd2",
   "metadata": {},
   "outputs": [],
   "source": [
    "def cust_price_type(arr):\n",
    "    ecom[0:30,5] = ecom[0:30,5].astype(int)\n",
    "    return(ecom)"
   ]
  },
  {
   "cell_type": "code",
   "execution_count": 64,
   "id": "32ed9a90",
   "metadata": {},
   "outputs": [
    {
     "data": {
      "text/plain": [
       "array([[1, 105, 20001, 2, 20240807, 12],\n",
       "       [2, 144, 20007, 7, 20240806, 15],\n",
       "       [3, 172, 20003, 1, 20240808, 1],\n",
       "       [4, 156, 20006, 6, 20240803, 16],\n",
       "       [5, 150, 20009, 6, 20240808, 13],\n",
       "       [6, 139, 20009, 1, 20240803, 1],\n",
       "       [7, 189, 20009, 9, 20240803, 19],\n",
       "       [8, 164, 20002, 9, 20240808, 19],\n",
       "       [9, 113, 20000, 6, 20240807, 16],\n",
       "       [10, 119, 20001, 9, 20240806, 2],\n",
       "       [11, 113, 20005, 2, 20240809, 17],\n",
       "       [12, 144, 20003, 3, 20240803, 18],\n",
       "       [13, 191, 20008, 1, 20240802, 15],\n",
       "       [14, 155, 20006, 9, 20240808, 4],\n",
       "       [15, 123, 20004, 4, 20240808, 11],\n",
       "       [16, 166, 20005, 2, 20240806, 18],\n",
       "       [17, 149, 20000, 4, 20240805, 13],\n",
       "       [18, 151, 20001, 6, 20240802, 18],\n",
       "       [19, 128, 20000, 3, 20240806, 17],\n",
       "       [20, 191, 20002, 2, 20240805, 9],\n",
       "       [21, 173, 20002, 7, 20240809, 19],\n",
       "       [22, 114, 20004, 5, 20240802, 15],\n",
       "       [23, 129, 20005, 9, 20240808, 3],\n",
       "       [24, 194, 20009, 2, 20240808, 3],\n",
       "       [25, 171, 20003, 4, 20240806, 3],\n",
       "       [26, 164, 20003, 4, 20240809, 4],\n",
       "       [27, 183, 20003, 7, 20240808, 8],\n",
       "       [28, 155, 20004, 3, 20240804, 14],\n",
       "       [29, 126, 20003, 4, 20240807, 6],\n",
       "       [30, 114, 20001, 1, 20240809, 13]], dtype=object)"
      ]
     },
     "execution_count": 64,
     "metadata": {},
     "output_type": "execute_result"
    }
   ],
   "source": [
    "cust_price_type(ecom)"
   ]
  },
  {
   "cell_type": "code",
   "execution_count": 137,
   "id": "85cfadde",
   "metadata": {},
   "outputs": [],
   "source": [
    "def column_type(arr, column):\n",
    "    print ('Column type of column number ' + str(column) + ' is:')\n",
    "    return arr[:, column].dtype"
   ]
  },
  {
   "cell_type": "code",
   "execution_count": 139,
   "id": "ddc6e027",
   "metadata": {},
   "outputs": [
    {
     "name": "stdout",
     "output_type": "stream",
     "text": [
      "Column type of column number 3 is:\n"
     ]
    },
    {
     "data": {
      "text/plain": [
       "dtype('O')"
      ]
     },
     "execution_count": 139,
     "metadata": {},
     "output_type": "execute_result"
    }
   ],
   "source": [
    "column_type(ecom, 3)"
   ]
  },
  {
   "cell_type": "code",
   "execution_count": 67,
   "id": "d52dc9ea",
   "metadata": {},
   "outputs": [],
   "source": [
    "#3. Array Manipulation Functions\n",
    "\n",
    "def new_array(arr):\n",
    "    code = np.vstack(ecom[0:30, 2])\n",
    "    qty = np.vstack(ecom[0:30, 3])\n",
    "    new_array = np.hstack((code, qty))\n",
    "    return new_array"
   ]
  },
  {
   "cell_type": "code",
   "execution_count": 68,
   "id": "8d260b66",
   "metadata": {},
   "outputs": [
    {
     "data": {
      "text/plain": [
       "array([[20001,     2],\n",
       "       [20007,     7],\n",
       "       [20003,     1],\n",
       "       [20006,     6],\n",
       "       [20009,     6],\n",
       "       [20009,     1],\n",
       "       [20009,     9],\n",
       "       [20002,     9],\n",
       "       [20000,     6],\n",
       "       [20001,     9],\n",
       "       [20005,     2],\n",
       "       [20003,     3],\n",
       "       [20008,     1],\n",
       "       [20006,     9],\n",
       "       [20004,     4],\n",
       "       [20005,     2],\n",
       "       [20000,     4],\n",
       "       [20001,     6],\n",
       "       [20000,     3],\n",
       "       [20002,     2],\n",
       "       [20002,     7],\n",
       "       [20004,     5],\n",
       "       [20005,     9],\n",
       "       [20009,     2],\n",
       "       [20003,     4],\n",
       "       [20003,     4],\n",
       "       [20003,     7],\n",
       "       [20004,     3],\n",
       "       [20003,     4],\n",
       "       [20001,     1]])"
      ]
     },
     "execution_count": 68,
     "metadata": {},
     "output_type": "execute_result"
    }
   ],
   "source": [
    "new_array(ecom)"
   ]
  },
  {
   "cell_type": "code",
   "execution_count": 71,
   "id": "49588ca5",
   "metadata": {},
   "outputs": [],
   "source": [
    "def transactions_amt(arr):\n",
    "    users, transaction_counts = np.unique(arr[0:30, 1], return_counts=True)   \n",
    "    code = np.vstack(users[0:30, None])\n",
    "    amt = np.vstack(transaction_counts[0:30, None])\n",
    "    new_array = np.hstack((code, amt))\n",
    "\n",
    "    return (new_array)\n",
    "#users, transaction_counts"
   ]
  },
  {
   "cell_type": "code",
   "execution_count": 72,
   "id": "1806fbc6",
   "metadata": {},
   "outputs": [
    {
     "data": {
      "text/plain": [
       "array([[105, 1],\n",
       "       [113, 2],\n",
       "       [114, 2],\n",
       "       [119, 1],\n",
       "       [123, 1],\n",
       "       [126, 1],\n",
       "       [128, 1],\n",
       "       [129, 1],\n",
       "       [139, 1],\n",
       "       [144, 2],\n",
       "       [149, 1],\n",
       "       [150, 1],\n",
       "       [151, 1],\n",
       "       [155, 2],\n",
       "       [156, 1],\n",
       "       [164, 2],\n",
       "       [166, 1],\n",
       "       [171, 1],\n",
       "       [172, 1],\n",
       "       [173, 1],\n",
       "       [183, 1],\n",
       "       [189, 1],\n",
       "       [191, 2],\n",
       "       [194, 1]], dtype=object)"
      ]
     },
     "execution_count": 72,
     "metadata": {},
     "output_type": "execute_result"
    }
   ],
   "source": [
    "transactions_amt(ecom)"
   ]
  },
  {
   "cell_type": "code",
   "execution_count": 23,
   "id": "7beea30b",
   "metadata": {},
   "outputs": [],
   "source": [
    "# arr = np.array([1, 2, np.nan, 4, 5])\n",
    "# mask = np.isnan(arr)\n",
    "\n",
    "# masked_array = np.ma.array(arr, mask=mask)\n",
    "\n",
    "# print(masked_array.compressed()) # [1. 2. 4. 5.]\n",
    "# print(masked_array.mask) # [False False  True False False]\n",
    "# print(masked_array.mean()) # 3.0\n",
    "# print(masked_array * 2) # [2.0 4.0 -- 8.0 10.0]"
   ]
  },
  {
   "cell_type": "code",
   "execution_count": 73,
   "id": "f13c9105",
   "metadata": {},
   "outputs": [],
   "source": [
    "#### Cant replace with mask in specific column in matrix\n",
    "def masking(arr):\n",
    "    mask = np.ma.masked_where(arr[:, 3] < 2, arr[:, 3])\n",
    "    return mask "
   ]
  },
  {
   "cell_type": "code",
   "execution_count": 74,
   "id": "d472ad43",
   "metadata": {},
   "outputs": [
    {
     "data": {
      "text/plain": [
       "masked_array(data=[2, 7, --, 6, 6, --, 9, 9, 6, 9, 2, 3, --, 9, 4, 2, 4,\n",
       "                   6, 3, 2, 7, 5, 9, 2, 4, 4, 7, 3, 4, --],\n",
       "             mask=[False, False,  True, False, False,  True, False, False,\n",
       "                   False, False, False, False,  True, False, False, False,\n",
       "                   False, False, False, False, False, False, False, False,\n",
       "                   False, False, False, False, False,  True],\n",
       "       fill_value='?',\n",
       "            dtype=object)"
      ]
     },
     "execution_count": 74,
     "metadata": {},
     "output_type": "execute_result"
    }
   ],
   "source": [
    "masking(ecom)"
   ]
  },
  {
   "cell_type": "code",
   "execution_count": 75,
   "id": "abe69418",
   "metadata": {},
   "outputs": [],
   "source": [
    "def increaser(arr):\n",
    "    \n",
    "    for line in arr:\n",
    "        line[5] = round((line[5] * 1.1), 2)\n",
    "    return arr"
   ]
  },
  {
   "cell_type": "code",
   "execution_count": 76,
   "id": "ece20401",
   "metadata": {},
   "outputs": [
    {
     "data": {
      "text/plain": [
       "array([[1, 105, 20001, 2, 20240807, 13.2],\n",
       "       [2, 144, 20007, 7, 20240806, 16.5],\n",
       "       [3, 172, 20003, 1, 20240808, 1.1],\n",
       "       [4, 156, 20006, 6, 20240803, 17.6],\n",
       "       [5, 150, 20009, 6, 20240808, 14.3],\n",
       "       [6, 139, 20009, 1, 20240803, 1.1],\n",
       "       [7, 189, 20009, 9, 20240803, 20.9],\n",
       "       [8, 164, 20002, 9, 20240808, 20.9],\n",
       "       [9, 113, 20000, 6, 20240807, 17.6],\n",
       "       [10, 119, 20001, 9, 20240806, 2.2],\n",
       "       [11, 113, 20005, 2, 20240809, 18.7],\n",
       "       [12, 144, 20003, 3, 20240803, 19.8],\n",
       "       [13, 191, 20008, 1, 20240802, 16.5],\n",
       "       [14, 155, 20006, 9, 20240808, 4.4],\n",
       "       [15, 123, 20004, 4, 20240808, 12.1],\n",
       "       [16, 166, 20005, 2, 20240806, 19.8],\n",
       "       [17, 149, 20000, 4, 20240805, 14.3],\n",
       "       [18, 151, 20001, 6, 20240802, 19.8],\n",
       "       [19, 128, 20000, 3, 20240806, 18.7],\n",
       "       [20, 191, 20002, 2, 20240805, 9.9],\n",
       "       [21, 173, 20002, 7, 20240809, 20.9],\n",
       "       [22, 114, 20004, 5, 20240802, 16.5],\n",
       "       [23, 129, 20005, 9, 20240808, 3.3],\n",
       "       [24, 194, 20009, 2, 20240808, 3.3],\n",
       "       [25, 171, 20003, 4, 20240806, 3.3],\n",
       "       [26, 164, 20003, 4, 20240809, 4.4],\n",
       "       [27, 183, 20003, 7, 20240808, 8.8],\n",
       "       [28, 155, 20004, 3, 20240804, 15.4],\n",
       "       [29, 126, 20003, 4, 20240807, 6.6],\n",
       "       [30, 114, 20001, 1, 20240809, 14.3]], dtype=object)"
      ]
     },
     "execution_count": 76,
     "metadata": {},
     "output_type": "execute_result"
    }
   ],
   "source": [
    "increaser(ecom)"
   ]
  },
  {
   "cell_type": "code",
   "execution_count": 77,
   "id": "44a2220b",
   "metadata": {},
   "outputs": [],
   "source": [
    "def greather_1(arr):\n",
    "    #new_array = np.zeros(shape=(1, 6))\n",
    "    new_array = np.empty(shape=(0, 6))\n",
    "    for line in arr:\n",
    "        if line[3] > 1:\n",
    "            new_array = np.vstack([new_array, line])\n",
    "            \n",
    "    return(new_array)        "
   ]
  },
  {
   "cell_type": "code",
   "execution_count": 78,
   "id": "ec88fd16",
   "metadata": {},
   "outputs": [
    {
     "data": {
      "text/plain": [
       "array([[1, 105, 20001, 2, 20240807, 13.2],\n",
       "       [2, 144, 20007, 7, 20240806, 16.5],\n",
       "       [4, 156, 20006, 6, 20240803, 17.6],\n",
       "       [5, 150, 20009, 6, 20240808, 14.3],\n",
       "       [7, 189, 20009, 9, 20240803, 20.9],\n",
       "       [8, 164, 20002, 9, 20240808, 20.9],\n",
       "       [9, 113, 20000, 6, 20240807, 17.6],\n",
       "       [10, 119, 20001, 9, 20240806, 2.2],\n",
       "       [11, 113, 20005, 2, 20240809, 18.7],\n",
       "       [12, 144, 20003, 3, 20240803, 19.8],\n",
       "       [14, 155, 20006, 9, 20240808, 4.4],\n",
       "       [15, 123, 20004, 4, 20240808, 12.1],\n",
       "       [16, 166, 20005, 2, 20240806, 19.8],\n",
       "       [17, 149, 20000, 4, 20240805, 14.3],\n",
       "       [18, 151, 20001, 6, 20240802, 19.8],\n",
       "       [19, 128, 20000, 3, 20240806, 18.7],\n",
       "       [20, 191, 20002, 2, 20240805, 9.9],\n",
       "       [21, 173, 20002, 7, 20240809, 20.9],\n",
       "       [22, 114, 20004, 5, 20240802, 16.5],\n",
       "       [23, 129, 20005, 9, 20240808, 3.3],\n",
       "       [24, 194, 20009, 2, 20240808, 3.3],\n",
       "       [25, 171, 20003, 4, 20240806, 3.3],\n",
       "       [26, 164, 20003, 4, 20240809, 4.4],\n",
       "       [27, 183, 20003, 7, 20240808, 8.8],\n",
       "       [28, 155, 20004, 3, 20240804, 15.4],\n",
       "       [29, 126, 20003, 4, 20240807, 6.6]], dtype=object)"
      ]
     },
     "execution_count": 78,
     "metadata": {},
     "output_type": "execute_result"
    }
   ],
   "source": [
    "greather_1(ecom)"
   ]
  },
  {
   "cell_type": "code",
   "execution_count": 202,
   "id": "c966d775",
   "metadata": {},
   "outputs": [],
   "source": [
    "def comparison_revenue_by_date(arr, date1, date2):\n",
    "    dates = {}\n",
    "  \n",
    "    for items in arr:\n",
    "        # print (str(items[4]) + ' -> ' + str(items[5]))\n",
    "\n",
    "        if items[4] in dates:\n",
    "            dates[items[4]] = dates.get(items[4], 0) + round(items[5], 2)\n",
    "        else:\n",
    "            dates[items[4]] = items[5]\n",
    "\n",
    "    #print (dates)\n",
    "    \n",
    "    for date, value in dates.items():\n",
    "        if date in (date1, date2):\n",
    "            print ('For date ' + str(date) + ', revenue = ' + str(round(value, 2)))\n",
    "    return"
   ]
  },
  {
   "cell_type": "code",
   "execution_count": 203,
   "id": "ca3c7d62",
   "metadata": {},
   "outputs": [
    {
     "name": "stdout",
     "output_type": "stream",
     "text": [
      "For date 20240807, revenue = 117.37\n",
      "For date 20240803, revenue = 66.55\n"
     ]
    }
   ],
   "source": [
    "comparison_revenue_by_date(ecom, 20240807, 20240803)"
   ]
  },
  {
   "cell_type": "code",
   "execution_count": 189,
   "id": "8671cb01",
   "metadata": {},
   "outputs": [],
   "source": [
    "# Indexing and Slicing Functions:\n",
    "def user_trans(arr, user_id):\n",
    "    user_transactions = np.empty(shape=(0, 6))\n",
    "    for line in arr:\n",
    "        if line[1] == user_id:\n",
    "            #print (line)\n",
    "            user_transactions = np.vstack([user_transactions, line])\n",
    "    return user_transactions\n",
    "\n",
    "# #OR\n",
    "def user_trans2(arr, user):\n",
    "    res = np.where(arr[:, 1] == user)\n",
    "    #print(res)\n",
    "    \n",
    "    for line in res:\n",
    "        print (arr[line])"
   ]
  },
  {
   "cell_type": "code",
   "execution_count": 188,
   "id": "f834f3d5",
   "metadata": {},
   "outputs": [
    {
     "name": "stdout",
     "output_type": "stream",
     "text": [
      "[[7 156 20000 4 20240801 18.15]]\n"
     ]
    }
   ],
   "source": [
    "user_trans(ecom, 156)\n",
    "user_trans2(ecom, 156)"
   ]
  },
  {
   "cell_type": "code",
   "execution_count": 191,
   "id": "272dc499",
   "metadata": {},
   "outputs": [],
   "source": [
    "def between_dates(arr, date1, date2):\n",
    "    data_between_dates = np.empty(shape=(0, 6))\n",
    "    if date1 > date2:\n",
    "        date1, date2 = date2, date1\n",
    "        \n",
    "    for line in arr:\n",
    "        if line[4] >= date1 and line[4] <= date2:\n",
    "            #print(line)\n",
    "            data_between_dates = np.vstack([data_between_dates, line])\n",
    "    return data_between_dates"
   ]
  },
  {
   "cell_type": "code",
   "execution_count": 192,
   "id": "a912e8b5",
   "metadata": {},
   "outputs": [
    {
     "data": {
      "text/plain": [
       "array([[2, 148, 20007, 9, 20240804, 8.47],\n",
       "       [5, 103, 20004, 1, 20240806, 15.73],\n",
       "       [8, 183, 20003, 9, 20240806, 15.73],\n",
       "       [10, 159, 20007, 5, 20240805, 10.89],\n",
       "       [12, 168, 20003, 3, 20240803, 1.21],\n",
       "       [14, 118, 20008, 7, 20240805, 19.36],\n",
       "       [15, 144, 20003, 7, 20240803, 20.57],\n",
       "       [16, 169, 20006, 9, 20240803, 22.99],\n",
       "       [21, 174, 20008, 8, 20240803, 19.36],\n",
       "       [24, 174, 20004, 8, 20240806, 16.94],\n",
       "       [26, 127, 20003, 6, 20240804, 4.84],\n",
       "       [27, 154, 20005, 2, 20240803, 2.42],\n",
       "       [28, 102, 20006, 3, 20240805, 4.84]], dtype=object)"
      ]
     },
     "execution_count": 192,
     "metadata": {},
     "output_type": "execute_result"
    }
   ],
   "source": [
    "between_dates(ecom, 20240806, 20240803)"
   ]
  },
  {
   "cell_type": "code",
   "execution_count": 85,
   "id": "f9b85aa5",
   "metadata": {},
   "outputs": [],
   "source": [
    "def top_5_products_by_revenue(arr, product_ids, revenues):\n",
    "    \n",
    "    #Determine unique products and total revenue by every one\n",
    "    unique_products, indices = np.unique(product_ids, return_inverse=True)\n",
    "    total_revenue_per_product = np.zeros(len(unique_products))\n",
    "    np.add.at(total_revenue_per_product, indices, revenues)\n",
    "    \n",
    "    #Find indexes of top 5 products by revenu\n",
    "    top_5_indices = np.argsort(total_revenue_per_product)[-5:]\n",
    "\n",
    "    #Get identificators of top-5 products\n",
    "    top_5_products = unique_products[top_5_indices]\n",
    "\n",
    "    # Retriving transactions for top-5 bproducts\n",
    "    top_5_transactions = arr[np.isin(product_ids, top_5_products)]\n",
    "    \n",
    "    return top_5_transactions"
   ]
  },
  {
   "cell_type": "code",
   "execution_count": 86,
   "id": "25f9c111",
   "metadata": {},
   "outputs": [
    {
     "name": "stdout",
     "output_type": "stream",
     "text": [
      "Transactions for top-5 bproducts by revenue:\n",
      "[[1 105 20001 2 20240807 13.2]\n",
      " [3 172 20003 1 20240808 1.1]\n",
      " [8 164 20002 9 20240808 20.9]\n",
      " [9 113 20000 6 20240807 17.6]\n",
      " [10 119 20001 9 20240806 2.2]\n",
      " [12 144 20003 3 20240803 19.8]\n",
      " [15 123 20004 4 20240808 12.1]\n",
      " [17 149 20000 4 20240805 14.3]\n",
      " [18 151 20001 6 20240802 19.8]\n",
      " [19 128 20000 3 20240806 18.7]\n",
      " [20 191 20002 2 20240805 9.9]\n",
      " [21 173 20002 7 20240809 20.9]\n",
      " [22 114 20004 5 20240802 16.5]\n",
      " [25 171 20003 4 20240806 3.3]\n",
      " [26 164 20003 4 20240809 4.4]\n",
      " [27 183 20003 7 20240808 8.8]\n",
      " [28 155 20004 3 20240804 15.4]\n",
      " [29 126 20003 4 20240807 6.6]\n",
      " [30 114 20001 1 20240809 14.3]]\n"
     ]
    }
   ],
   "source": [
    "product_ids = ecom[:, 2]\n",
    "revenues = ecom[:, 5].astype(float)\n",
    "\n",
    " # Retriving transactions for top-5 bproducts by revenue\n",
    "top_transactions = top_5_products_by_revenue(ecom, product_ids, revenues)\n",
    "\n",
    "print('Transactions for top-5 bproducts by revenue:')\n",
    "print(top_transactions)"
   ]
  },
  {
   "cell_type": "code",
   "execution_count": 140,
   "id": "f274c997",
   "metadata": {},
   "outputs": [],
   "source": [
    "def print_array(array, message = None):\n",
    "    if message:\n",
    "        print(message)\n",
    "        print('')\n",
    "    print(array)"
   ]
  },
  {
   "cell_type": "code",
   "execution_count": 141,
   "id": "f7610393",
   "metadata": {},
   "outputs": [],
   "source": [
    "##################################"
   ]
  },
  {
   "cell_type": "code",
   "execution_count": 142,
   "id": "9868c3c5",
   "metadata": {},
   "outputs": [
    {
     "name": "stdout",
     "output_type": "stream",
     "text": [
      "Total Revenue Function\n",
      "\n",
      "1710\n"
     ]
    }
   ],
   "source": [
    "print_array(revenue(ecom), 'Total Revenue Function')"
   ]
  },
  {
   "cell_type": "code",
   "execution_count": 143,
   "id": "98141046",
   "metadata": {},
   "outputs": [
    {
     "name": "stdout",
     "output_type": "stream",
     "text": [
      "Unique Users Function\n",
      "\n",
      "24\n"
     ]
    }
   ],
   "source": [
    "print_array(unq_users(ecom), 'Unique Users Function')"
   ]
  },
  {
   "cell_type": "code",
   "execution_count": 148,
   "id": "153ab4eb",
   "metadata": {},
   "outputs": [
    {
     "name": "stdout",
     "output_type": "stream",
     "text": [
      "All product ids with their amount of total purchases\n",
      "{20007: 29, 20008: 22, 20005: 11, 20004: 9, 20003: 39, 20000: 11, 20006: 12, 20009: 9, 20001: 6}\n",
      "\n",
      "Most purchased product_id:\n",
      "20003\n",
      "None\n"
     ]
    }
   ],
   "source": [
    "print_array(most_purchased(ecom))"
   ]
  },
  {
   "cell_type": "code",
   "execution_count": 145,
   "id": "669b5d26",
   "metadata": {},
   "outputs": [
    {
     "name": "stdout",
     "output_type": "stream",
     "text": [
      "Convert the price array from float to integer.\n",
      "\n",
      "[[1 192 20007 3 20240807 3]\n",
      " [2 148 20007 9 20240804 7]\n",
      " [3 137 20008 4 20240809 3]\n",
      " [4 154 20005 1 20240807 19]\n",
      " [5 103 20004 1 20240806 13]\n",
      " [6 187 20003 7 20240807 17]\n",
      " [7 156 20000 4 20240801 15]\n",
      " [8 183 20003 9 20240806 13]\n",
      " [9 174 20008 3 20240807 15]\n",
      " [10 159 20007 5 20240805 9]\n",
      " [11 120 20000 7 20240801 16]\n",
      " [12 168 20003 3 20240803 1]\n",
      " [13 137 20003 6 20240802 10]\n",
      " [14 118 20008 7 20240805 16]\n",
      " [15 144 20003 7 20240803 17]\n",
      " [16 169 20006 9 20240803 19]\n",
      " [17 176 20005 4 20240808 13]\n",
      " [18 130 20009 1 20240801 18]\n",
      " [19 123 20007 3 20240802 2]\n",
      " [20 116 20001 6 20240807 7]\n",
      " [21 174 20008 8 20240803 16]\n",
      " [22 179 20007 5 20240807 14]\n",
      " [23 105 20009 8 20240808 8]\n",
      " [24 174 20004 8 20240806 14]\n",
      " [25 174 20005 4 20240807 4]\n",
      " [26 127 20003 6 20240804 4]\n",
      " [27 154 20005 2 20240803 2]\n",
      " [28 102 20006 3 20240805 4]\n",
      " [29 105 20003 1 20240808 11]\n",
      " [30 147 20007 4 20240807 18]]\n"
     ]
    }
   ],
   "source": [
    "print_array(cust_price_type(ecom), 'Convert the price array from float to integer.')"
   ]
  },
  {
   "cell_type": "code",
   "execution_count": 147,
   "id": "9c65878f",
   "metadata": {},
   "outputs": [
    {
     "name": "stdout",
     "output_type": "stream",
     "text": [
      "Column type of column number 3 is:\n",
      "object\n"
     ]
    }
   ],
   "source": [
    "print_array(column_type(ecom, 3))"
   ]
  },
  {
   "cell_type": "code",
   "execution_count": 149,
   "id": "b65ed5e2",
   "metadata": {},
   "outputs": [
    {
     "name": "stdout",
     "output_type": "stream",
     "text": [
      "Product Quantity Array Function\n",
      "\n",
      "[[20007     3]\n",
      " [20007     9]\n",
      " [20008     4]\n",
      " [20005     1]\n",
      " [20004     1]\n",
      " [20003     7]\n",
      " [20000     4]\n",
      " [20003     9]\n",
      " [20008     3]\n",
      " [20007     5]\n",
      " [20000     7]\n",
      " [20003     3]\n",
      " [20003     6]\n",
      " [20008     7]\n",
      " [20003     7]\n",
      " [20006     9]\n",
      " [20005     4]\n",
      " [20009     1]\n",
      " [20007     3]\n",
      " [20001     6]\n",
      " [20008     8]\n",
      " [20007     5]\n",
      " [20009     8]\n",
      " [20004     8]\n",
      " [20005     4]\n",
      " [20003     6]\n",
      " [20005     2]\n",
      " [20006     3]\n",
      " [20003     1]\n",
      " [20007     4]]\n"
     ]
    }
   ],
   "source": [
    "print_array(new_array(ecom), 'Product Quantity Array Function')"
   ]
  },
  {
   "cell_type": "code",
   "execution_count": 150,
   "id": "44b69e8d",
   "metadata": {},
   "outputs": [
    {
     "name": "stdout",
     "output_type": "stream",
     "text": [
      "User Transaction Count Function\n",
      "\n",
      "[[102 1]\n",
      " [103 1]\n",
      " [105 2]\n",
      " [116 1]\n",
      " [118 1]\n",
      " [120 1]\n",
      " [123 1]\n",
      " [127 1]\n",
      " [130 1]\n",
      " [137 2]\n",
      " [144 1]\n",
      " [147 1]\n",
      " [148 1]\n",
      " [154 2]\n",
      " [156 1]\n",
      " [159 1]\n",
      " [168 1]\n",
      " [169 1]\n",
      " [174 4]\n",
      " [176 1]\n",
      " [179 1]\n",
      " [183 1]\n",
      " [187 1]\n",
      " [192 1]]\n"
     ]
    }
   ],
   "source": [
    "print_array(transactions_amt(ecom), 'User Transaction Count Function')"
   ]
  },
  {
   "cell_type": "code",
   "execution_count": 151,
   "id": "d73a0e3a",
   "metadata": {},
   "outputs": [
    {
     "name": "stdout",
     "output_type": "stream",
     "text": [
      "Masked Array Function\n",
      "\n",
      "[3 9 4 -- -- 7 4 9 3 5 7 3 6 7 7 9 4 -- 3 6 8 5 8 8 4 6 2 3 -- 4]\n"
     ]
    }
   ],
   "source": [
    "print_array(masking(ecom), 'Masked Array Function')"
   ]
  },
  {
   "cell_type": "code",
   "execution_count": 153,
   "id": "058f16b6",
   "metadata": {},
   "outputs": [
    {
     "name": "stdout",
     "output_type": "stream",
     "text": [
      "Price Increase on 10% Function\n",
      "\n",
      "[[1 192 20007 3 20240807 3.63]\n",
      " [2 148 20007 9 20240804 8.47]\n",
      " [3 137 20008 4 20240809 3.63]\n",
      " [4 154 20005 1 20240807 22.99]\n",
      " [5 103 20004 1 20240806 15.73]\n",
      " [6 187 20003 7 20240807 20.57]\n",
      " [7 156 20000 4 20240801 18.15]\n",
      " [8 183 20003 9 20240806 15.73]\n",
      " [9 174 20008 3 20240807 18.15]\n",
      " [10 159 20007 5 20240805 10.89]\n",
      " [11 120 20000 7 20240801 19.36]\n",
      " [12 168 20003 3 20240803 1.21]\n",
      " [13 137 20003 6 20240802 12.1]\n",
      " [14 118 20008 7 20240805 19.36]\n",
      " [15 144 20003 7 20240803 20.57]\n",
      " [16 169 20006 9 20240803 22.99]\n",
      " [17 176 20005 4 20240808 15.73]\n",
      " [18 130 20009 1 20240801 21.78]\n",
      " [19 123 20007 3 20240802 2.42]\n",
      " [20 116 20001 6 20240807 8.47]\n",
      " [21 174 20008 8 20240803 19.36]\n",
      " [22 179 20007 5 20240807 16.94]\n",
      " [23 105 20009 8 20240808 9.68]\n",
      " [24 174 20004 8 20240806 16.94]\n",
      " [25 174 20005 4 20240807 4.84]\n",
      " [26 127 20003 6 20240804 4.84]\n",
      " [27 154 20005 2 20240803 2.42]\n",
      " [28 102 20006 3 20240805 4.84]\n",
      " [29 105 20003 1 20240808 13.31]\n",
      " [30 147 20007 4 20240807 21.78]]\n"
     ]
    }
   ],
   "source": [
    "print_array(increaser(ecom), 'Price Increase on 10% Function')"
   ]
  },
  {
   "cell_type": "code",
   "execution_count": 154,
   "id": "024eeaa8",
   "metadata": {},
   "outputs": [
    {
     "name": "stdout",
     "output_type": "stream",
     "text": [
      "Filter Transactions Function\n",
      "\n",
      "[[1 192 20007 3 20240807 3.63]\n",
      " [2 148 20007 9 20240804 8.47]\n",
      " [3 137 20008 4 20240809 3.63]\n",
      " [6 187 20003 7 20240807 20.57]\n",
      " [7 156 20000 4 20240801 18.15]\n",
      " [8 183 20003 9 20240806 15.73]\n",
      " [9 174 20008 3 20240807 18.15]\n",
      " [10 159 20007 5 20240805 10.89]\n",
      " [11 120 20000 7 20240801 19.36]\n",
      " [12 168 20003 3 20240803 1.21]\n",
      " [13 137 20003 6 20240802 12.1]\n",
      " [14 118 20008 7 20240805 19.36]\n",
      " [15 144 20003 7 20240803 20.57]\n",
      " [16 169 20006 9 20240803 22.99]\n",
      " [17 176 20005 4 20240808 15.73]\n",
      " [19 123 20007 3 20240802 2.42]\n",
      " [20 116 20001 6 20240807 8.47]\n",
      " [21 174 20008 8 20240803 19.36]\n",
      " [22 179 20007 5 20240807 16.94]\n",
      " [23 105 20009 8 20240808 9.68]\n",
      " [24 174 20004 8 20240806 16.94]\n",
      " [25 174 20005 4 20240807 4.84]\n",
      " [26 127 20003 6 20240804 4.84]\n",
      " [27 154 20005 2 20240803 2.42]\n",
      " [28 102 20006 3 20240805 4.84]\n",
      " [30 147 20007 4 20240807 21.78]]\n"
     ]
    }
   ],
   "source": [
    "print_array(greather_1(ecom), 'Filter Transactions Function')"
   ]
  },
  {
   "cell_type": "code",
   "execution_count": 204,
   "id": "c13335bf",
   "metadata": {},
   "outputs": [
    {
     "name": "stdout",
     "output_type": "stream",
     "text": [
      "For date 20240807, revenue = 117.37\n",
      "For date 20240803, revenue = 66.55\n",
      "None\n"
     ]
    }
   ],
   "source": [
    "print_array(comparison_revenue_by_date(ecom, 20240807, 20240803))"
   ]
  },
  {
   "cell_type": "code",
   "execution_count": 190,
   "id": "0aee59e1",
   "metadata": {},
   "outputs": [
    {
     "name": "stdout",
     "output_type": "stream",
     "text": [
      "User Transactions Function:\n",
      "\n",
      "[[9 174 20008 3 20240807 18.15]\n",
      " [21 174 20008 8 20240803 19.36]\n",
      " [24 174 20004 8 20240806 16.94]\n",
      " [25 174 20005 4 20240807 4.84]]\n"
     ]
    }
   ],
   "source": [
    "print_array(user_trans(ecom, 174), 'User Transactions Function:')"
   ]
  },
  {
   "cell_type": "code",
   "execution_count": 193,
   "id": "1d9ee9a5",
   "metadata": {},
   "outputs": [
    {
     "name": "stdout",
     "output_type": "stream",
     "text": [
      "Date Range Slicing Function\n",
      "\n",
      "[[2 148 20007 9 20240804 8.47]\n",
      " [5 103 20004 1 20240806 15.73]\n",
      " [8 183 20003 9 20240806 15.73]\n",
      " [10 159 20007 5 20240805 10.89]\n",
      " [12 168 20003 3 20240803 1.21]\n",
      " [14 118 20008 7 20240805 19.36]\n",
      " [15 144 20003 7 20240803 20.57]\n",
      " [16 169 20006 9 20240803 22.99]\n",
      " [21 174 20008 8 20240803 19.36]\n",
      " [24 174 20004 8 20240806 16.94]\n",
      " [26 127 20003 6 20240804 4.84]\n",
      " [27 154 20005 2 20240803 2.42]\n",
      " [28 102 20006 3 20240805 4.84]]\n"
     ]
    }
   ],
   "source": [
    "print_array(between_dates(ecom, 20240806, 20240803), 'Date Range Slicing Function')"
   ]
  },
  {
   "cell_type": "code",
   "execution_count": null,
   "id": "a85adfff",
   "metadata": {},
   "outputs": [],
   "source": []
  },
  {
   "cell_type": "code",
   "execution_count": null,
   "id": "f11484cc",
   "metadata": {},
   "outputs": [],
   "source": []
  },
  {
   "cell_type": "code",
   "execution_count": null,
   "id": "e6a50d57",
   "metadata": {},
   "outputs": [],
   "source": []
  }
 ],
 "metadata": {
  "kernelspec": {
   "display_name": "Python 3 (ipykernel)",
   "language": "python",
   "name": "python3"
  },
  "language_info": {
   "codemirror_mode": {
    "name": "ipython",
    "version": 3
   },
   "file_extension": ".py",
   "mimetype": "text/x-python",
   "name": "python",
   "nbconvert_exporter": "python",
   "pygments_lexer": "ipython3",
   "version": "3.11.5"
  }
 },
 "nbformat": 4,
 "nbformat_minor": 5
}
