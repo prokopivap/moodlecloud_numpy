{
 "cells": [
  {
   "cell_type": "code",
   "execution_count": 657,
   "id": "14341bbc",
   "metadata": {},
   "outputs": [],
   "source": [
    "# 3 Array Manipulation with Separate Output Function in NumPy"
   ]
  },
  {
   "cell_type": "code",
   "execution_count": 661,
   "id": "d2d2250c",
   "metadata": {},
   "outputs": [],
   "source": [
    "import numpy as np\n",
    "array = np.random.randint(1, 10, size=(6, 6))"
   ]
  },
  {
   "cell_type": "code",
   "execution_count": 662,
   "id": "5d679dbe",
   "metadata": {},
   "outputs": [
    {
     "name": "stdout",
     "output_type": "stream",
     "text": [
      "[[1 1 1 5 9 7]\n",
      " [6 1 3 2 4 2]\n",
      " [1 9 4 2 4 5]\n",
      " [6 4 1 6 1 5]\n",
      " [9 1 2 4 2 5]\n",
      " [4 8 1 9 4 6]]\n"
     ]
    }
   ],
   "source": [
    " print(array)"
   ]
  },
  {
   "cell_type": "code",
   "execution_count": 663,
   "id": "7215c6b4",
   "metadata": {},
   "outputs": [],
   "source": [
    "def transpose_array(arr):\n",
    "    transpose_array = arr.transpose()\n",
    "    return transpose_array"
   ]
  },
  {
   "cell_type": "code",
   "execution_count": 664,
   "id": "8862e916",
   "metadata": {},
   "outputs": [
    {
     "data": {
      "text/plain": [
       "array([[1, 6, 1, 6, 9, 4],\n",
       "       [1, 1, 9, 4, 1, 8],\n",
       "       [1, 3, 4, 1, 2, 1],\n",
       "       [5, 2, 2, 6, 4, 9],\n",
       "       [9, 4, 4, 1, 2, 4],\n",
       "       [7, 2, 5, 5, 5, 6]])"
      ]
     },
     "execution_count": 664,
     "metadata": {},
     "output_type": "execute_result"
    }
   ],
   "source": [
    "transpose_array(array)"
   ]
  },
  {
   "cell_type": "code",
   "execution_count": 667,
   "id": "cf74bd00",
   "metadata": {},
   "outputs": [],
   "source": [
    "def reshape_array(arr):\n",
    "    reshape_array = arr.reshape(3, 12)\n",
    "    return reshape_array"
   ]
  },
  {
   "cell_type": "code",
   "execution_count": 668,
   "id": "76a75ec8",
   "metadata": {},
   "outputs": [
    {
     "data": {
      "text/plain": [
       "array([[1, 1, 1, 5, 9, 7, 6, 1, 3, 2, 4, 2],\n",
       "       [1, 9, 4, 2, 4, 5, 6, 4, 1, 6, 1, 5],\n",
       "       [9, 1, 2, 4, 2, 5, 4, 8, 1, 9, 4, 6]])"
      ]
     },
     "execution_count": 668,
     "metadata": {},
     "output_type": "execute_result"
    }
   ],
   "source": [
    "reshape_array(array)"
   ]
  },
  {
   "cell_type": "code",
   "execution_count": 716,
   "id": "64b1b331",
   "metadata": {},
   "outputs": [],
   "source": [
    "def split_array(arr):\n",
    "    splited_array = np.array_split(arr, 3, axis=0)\n",
    "    arr1 = splited_array[0]\n",
    "    arr2 = splited_array[1]\n",
    "    arr3 = splited_array[2]\n",
    "    return arr1, arr2, arr3\n",
    "#     print(splited_array[0])\n",
    "#     print(splited_array[1])\n",
    "#     print(splited_array[2])"
   ]
  },
  {
   "cell_type": "code",
   "execution_count": 717,
   "id": "eb3423b9",
   "metadata": {},
   "outputs": [
    {
     "data": {
      "text/plain": [
       "(array([[1, 1, 1, 5, 9, 7],\n",
       "        [6, 1, 3, 2, 4, 2]]),\n",
       " array([[1, 9, 4, 2, 4, 5],\n",
       "        [6, 4, 1, 6, 1, 5]]),\n",
       " array([[9, 1, 2, 4, 2, 5],\n",
       "        [4, 8, 1, 9, 4, 6]]))"
      ]
     },
     "execution_count": 717,
     "metadata": {},
     "output_type": "execute_result"
    }
   ],
   "source": [
    "split_array(array)"
   ]
  },
  {
   "cell_type": "code",
   "execution_count": null,
   "id": "56dd2f3c",
   "metadata": {},
   "outputs": [],
   "source": []
  },
  {
   "cell_type": "code",
   "execution_count": 736,
   "id": "b62cbd66",
   "metadata": {},
   "outputs": [],
   "source": [
    "def concatenate_arrays(arr):\n",
    "    #concatenated_array = np.concatenate((array[0], array[1], array[2]))\n",
    "    concatenated_array = np.vstack((array[0:]))\n",
    "    return concatenated_array"
   ]
  },
  {
   "cell_type": "code",
   "execution_count": 737,
   "id": "30cd95d9",
   "metadata": {},
   "outputs": [
    {
     "data": {
      "text/plain": [
       "array([[1, 1, 1, 5, 9, 7],\n",
       "       [6, 1, 3, 2, 4, 2],\n",
       "       [1, 9, 4, 2, 4, 5],\n",
       "       [6, 4, 1, 6, 1, 5],\n",
       "       [9, 1, 2, 4, 2, 5],\n",
       "       [4, 8, 1, 9, 4, 6]])"
      ]
     },
     "execution_count": 737,
     "metadata": {},
     "output_type": "execute_result"
    }
   ],
   "source": [
    "concatenate_arrays(split_array(array))"
   ]
  },
  {
   "cell_type": "code",
   "execution_count": null,
   "id": "3083bd04",
   "metadata": {},
   "outputs": [],
   "source": []
  },
  {
   "cell_type": "code",
   "execution_count": null,
   "id": "339fcee3",
   "metadata": {},
   "outputs": [],
   "source": []
  }
 ],
 "metadata": {
  "kernelspec": {
   "display_name": "Python 3 (ipykernel)",
   "language": "python",
   "name": "python3"
  },
  "language_info": {
   "codemirror_mode": {
    "name": "ipython",
    "version": 3
   },
   "file_extension": ".py",
   "mimetype": "text/x-python",
   "name": "python",
   "nbconvert_exporter": "python",
   "pygments_lexer": "ipython3",
   "version": "3.11.5"
  }
 },
 "nbformat": 4,
 "nbformat_minor": 5
}
